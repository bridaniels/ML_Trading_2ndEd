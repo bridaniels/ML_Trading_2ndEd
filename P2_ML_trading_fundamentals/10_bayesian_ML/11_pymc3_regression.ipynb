{
 "cells": [
  {
   "cell_type": "markdown",
   "metadata": {},
   "source": [
    "# **Logistic Regression with PyMC3**\n",
    "---\n",
    "#### [∫ Integral](https://en.wikipedia.org/wiki/Integral): assigns numbers to functions in a way that describes displacement, area, volume, etc. used in mathematics and physics"
   ]
  },
  {
   "cell_type": "markdown",
   "metadata": {},
   "source": [
    "### Previous Work with [Conjugate Priors](04_stock_price_moves.ipynb) Does *NOT* Return a Distribution Usable for: *Measures of Uncertainty* or *Priors*\n",
    "- Few models of practical relevance are able to:\n",
    "    - derive the exact posterior distribution \n",
    "    - compute expected values for latent parameters\n",
    "- Constraints: \n",
    "    - too many parameters\n",
    "    - posterior distribution too complex for an analytical solution \n",
    "    > **Continuous Variables:** -> ∞\n",
    "    > - integrals may not have closed-form solutions\n",
    "    > - dimensionality of the space and complexity of integrand may prohibit numerical integration \n",
    "    > \n",
    "    > **Discrete Variables:** finite\n",
    "    > - summing over all possible configurations of hidden variables often computationally expensive \n",
    "    > - can be exponentially many hidden states \n",
    "\n",
    "### Posterior Distribution over Unobserved Parameters -> *sometimes of interest*\n",
    "- typically used to evaluate expectations\n",
    "- able to rely on approximate iference, which includes: \n",
    "    - **Stochastic Approaches** based on **Markov Chain Monte Carlo (MCMC) Sampling**:\n",
    "        - have popularized the use of *Bayesian Methods* across many domains\n",
    "        - generally have property to converge to the exact result \n",
    "        - can be computationaly demanding with sampling methods (mainly small-scale problems)\n",
    "    - **Deterministic Methods:** **Variational Inference** or **Variational Bayes**\n",
    "        - based on analytical approximations to the posterior distribution\n",
    "        - scale well to large applications \n",
    "        - *DO NOT* generate exact results - used as complements to sampling methods "
   ]
  },
  {
   "cell_type": "code",
   "execution_count": null,
   "metadata": {},
   "outputs": [],
   "source": []
  }
 ],
 "metadata": {
  "kernelspec": {
   "display_name": "Python 3.9.10 64-bit",
   "language": "python",
   "name": "python3"
  },
  "language_info": {
   "name": "python",
   "version": "3.9.10"
  },
  "orig_nbformat": 4,
  "vscode": {
   "interpreter": {
    "hash": "aee8b7b246df8f9039afb4144a1f6fd8d2ca17a180786b69acc140d282b71a49"
   }
  }
 },
 "nbformat": 4,
 "nbformat_minor": 2
}
