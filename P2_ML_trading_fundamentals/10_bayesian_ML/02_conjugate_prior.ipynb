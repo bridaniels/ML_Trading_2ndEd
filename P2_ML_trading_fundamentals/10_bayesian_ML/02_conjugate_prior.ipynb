{
 "cells": [
  {
   "cell_type": "markdown",
   "metadata": {},
   "source": [
    "# **Bayesian Updating with Conjugate Priors**\n",
    "---\n",
    "---"
   ]
  },
  {
   "cell_type": "markdown",
   "metadata": {},
   "source": [
    "### **Conjugate Prior:** posterior with same distribution as the prior\n",
    "- certain likelihood functions with specific prior distributions -> posterior having the same distribution as the prior\n",
    "\n",
    "\n",
    "\n",
    "> \n",
    "> ### P(θ) such that P(θ|D) = P(θ)\n",
    "> - chosen *Prior Distribution* for the *Likelihood Function* = a *Posterior Distribution* the same as the *Prior Distribution* \n",
    "> - Allows you to skip `posterior = likelihood * prior` computation (if you know it is a conjugate prior)\n",
    "> - implied **Closed-Form Expression** for the *prior disribution* (you already know what the maximum posterior will be)\n",
    ">      - *Closed-Form Expression* = finite number of standard operations"
   ]
  },
  {
   "cell_type": "markdown",
   "metadata": {},
   "source": [
    "### Import Libraries"
   ]
  },
  {
   "cell_type": "code",
   "execution_count": 1,
   "metadata": {},
   "outputs": [],
   "source": [
    "import numpy as np\n",
    "import scipy.stats as stats"
   ]
  },
  {
   "cell_type": "markdown",
   "metadata": {},
   "source": [
    "## Calculate Posterior of Binomial Likelihood (Conjugate Priors)\n",
    "---\n",
    "---\n",
    "Medium Article: [Conjugate Prior](https://towardsdatascience.com/conjugate-prior-explained-75957dc80bfb)\n",
    "\n",
    "- `Θ` = probability of success\n",
    "- goal = pick the `Θ` that maximizes the postrior probability"
   ]
  },
  {
   "cell_type": "markdown",
   "metadata": {},
   "source": [
    "### Generate Dataset and Parameters\n",
    "---"
   ]
  },
  {
   "cell_type": "code",
   "execution_count": 16,
   "metadata": {},
   "outputs": [],
   "source": [
    "# Generate Dataset\n",
    "success_prob = 0.3\n",
    "data = np.random.binomial(n=1, p=success_prob, size=1000)\n",
    "\n",
    "# Θ\n",
    "theta_range = np.linspace(0,1,1000)\n",
    "\n",
    "# Prior P(Θ)\n",
    "    # Beta Distribution: Probability Distribution on Probabilities\n",
    "Alpha = 2\n",
    "Beta = 8\n",
    "theta_range_prior = theta_range + 0.0001\n",
    "c_prior = stats.beta.cdf(x=theta_range_prior, a=Alpha, b=Beta) - stats.beta.cdf(x=theta_range, a=Alpha, b=Beta)\n",
    "pd_prior = stats.beta.pdf(x=theta_range, a=Alpha, b=Beta)"
   ]
  },
  {
   "cell_type": "code",
   "execution_count": 17,
   "metadata": {},
   "outputs": [
    {
     "data": {
      "text/plain": [
       "False"
      ]
     },
     "execution_count": 17,
     "metadata": {},
     "output_type": "execute_result"
    }
   ],
   "source": [
    "collections.Counter(c_prior) == collections.Counter(pd_prior)"
   ]
  },
  {
   "cell_type": "code",
   "execution_count": null,
   "metadata": {},
   "outputs": [],
   "source": []
  }
 ],
 "metadata": {
  "kernelspec": {
   "display_name": "Python 3.8.8 ('base')",
   "language": "python",
   "name": "python3"
  },
  "language_info": {
   "codemirror_mode": {
    "name": "ipython",
    "version": 3
   },
   "file_extension": ".py",
   "mimetype": "text/x-python",
   "name": "python",
   "nbconvert_exporter": "python",
   "pygments_lexer": "ipython3",
   "version": "3.8.8"
  },
  "orig_nbformat": 4,
  "vscode": {
   "interpreter": {
    "hash": "08a0dfaf3fa74e1b9a1bb705dbe1b2708914f992320bdd77350db063c3b717dd"
   }
  }
 },
 "nbformat": 4,
 "nbformat_minor": 2
}
