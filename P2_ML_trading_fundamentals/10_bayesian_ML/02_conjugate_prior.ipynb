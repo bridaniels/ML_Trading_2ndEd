{
 "cells": [
  {
   "cell_type": "markdown",
   "metadata": {},
   "source": [
    "# **Bayesian Updating with Conjugate Priors**\n",
    "---\n",
    "---"
   ]
  },
  {
   "cell_type": "markdown",
   "metadata": {},
   "source": [
    "### **Conjugate Prior:** posterior with same distribution as the prior\n",
    "- certain likelihood functions with specific prior distributions -> posterior having the same distribution as the prior\n",
    "\n",
    "\n",
    "\n",
    "> \n",
    "> ### P(θ) such that P(θ|D) = P(θ)\n",
    "> - chosen *Prior Distribution* for the *Likelihood Function* = a *Posterior Distribution* the same as the *Prior Distribution* \n",
    "> - Allows you to skip `posterior = likelihood * prior` computation (if you know it is a conjugate prior)\n",
    "> - implied **Closed-Form Expression** for the *prior disribution* (you already know what the maximum posterior will be)\n",
    ">      - *Closed-Form Expression* = finite number of standard operations"
   ]
  },
  {
   "cell_type": "markdown",
   "metadata": {},
   "source": [
    "### Import Libraries"
   ]
  },
  {
   "cell_type": "code",
   "execution_count": 1,
   "metadata": {},
   "outputs": [],
   "source": [
    "import numpy as np\n",
    "import scipy.stats as stats"
   ]
  },
  {
   "cell_type": "markdown",
   "metadata": {},
   "source": [
    "## Calculate Posterior of Binomial Likelihood (Conjugate Priors)\n",
    "---\n",
    "---\n",
    "Medium Article: [Conjugate Prior](https://towardsdatascience.com/conjugate-prior-explained-75957dc80bfb)\n",
    "\n",
    "- `Θ` = probability of success\n",
    "- goal = pick the `Θ` that maximizes the postrior probability"
   ]
  },
  {
   "cell_type": "markdown",
   "metadata": {},
   "source": [
    "### Generate Dataset and Calculate Posterior of the Binomial Likelihood\n",
    "---"
   ]
  },
  {
   "cell_type": "code",
   "execution_count": 19,
   "metadata": {},
   "outputs": [],
   "source": [
    "# Generate Dataset\n",
    "success_prob = 0.3\n",
    "data = np.random.binomial(n=1, p=success_prob, size=1000)\n",
    "\n",
    "# Θ\n",
    "theta_range = np.linspace(0,1,1000)\n",
    "\n",
    "# Prior P(Θ)\n",
    "    # Beta Distribution: Probability Distribution on Probabilities\n",
    "    # Cumulative Distribution Function (CDF): Probability 'X' will take on a value less than or equal to 'x'\n",
    "Alpha = 2\n",
    "Beta = 8\n",
    "theta_range_cdf = theta_range + 0.0001\n",
    "cdf_prior = stats.beta.cdf(x=theta_range_cdf, a=Alpha, b=Beta) - stats.beta.cdf(x=theta_range, a=Alpha, b=Beta)\n",
    "\n",
    "# Likelihood P(X|Θ)\n",
    "    # Binomial Distribution: probability of 'k' successes in 'n' periods\n",
    "    # Probability Mass Function (PMF): probability that 'X' = 'k'\n",
    "        # k = number of successes\n",
    "        # n = number of trials \n",
    "        # p = probability of success\n",
    "likelihood = stats.binom.pmf(k=np.sum(data), n=len(data), p=theta_range)\n",
    "\n",
    "# Posterior P(Θ|X)\n",
    "posterior = likelihood * cdf_prior \n",
    "normalized_posterior = posterior / np.sum(posterior)\n"
   ]
  },
  {
   "cell_type": "markdown",
   "metadata": {},
   "source": [
    "### Above code ^: Posterior Calculation is Expensive\n",
    "1. Computing Posterior For Every `Θ`\n",
    "    - normalization aside -> Goal is to find the *maximum* of the posteriors (Maximum a Posteriori - MAP)\n",
    "2. **No Closed-Form Formula** of Posterior Distribution \n",
    "    - *Closed-Form Expression* = finite number of standard operations\n",
    "    - find MAP by numerical optimization (gradient descent or newtons method)"
   ]
  },
  {
   "cell_type": "markdown",
   "metadata": {},
   "source": [
    "# **Conjugate Prior**\n",
    "---\n",
    "---\n",
    "### Able to Skip Computationally Expensive *`posterior = likelihood * prior`* computation \n"
   ]
  },
  {
   "cell_type": "markdown",
   "metadata": {},
   "source": [
    "### **IFF** your *prior distribution* has a *closed-form expression*:\n",
    " - MAP already known\n",
    " - **Closed-Form Expression** = finite number of standard operations\n",
    "    - Closed-Form Formulas of Conjugate Priors Lighten Computation \n",
    "\n",
    "---\n",
    ">### Pre-Known Conjugate Priors\n",
    ">> Beta Distribution Posterior: \n",
    ">> - Beta Prior * **Bernoulli** Likelihood = Beta Posterior\n",
    ">> - Beta Prior * **Binomial** Likelihood = Beta Posterior\n",
    ">> - Beta Prior * **Negative Binomial** Likelihood = Beta Posterior \n",
    ">> - Beta Prior * **Geometric** Likelihood = Beta Posterior \n",
    "> \n",
    ">> Gamma Distribution Posterior: \n",
    ">> - Gamma Prior * **Poisson** Likelihood = Gamma Posterior \n",
    ">> - Gamma Prior * **Exponential** Likelihood = Gamma Posterior \n",
    ">\n",
    ">> Normal Posterior: \n",
    ">> - Normal Prior * **Normal** Likelihood (mean) = Normal Posterior \n",
    ">\n",
    "---"
   ]
  },
  {
   "cell_type": "markdown",
   "metadata": {},
   "source": [
    "### Beta Distributions Conjugate Prior to Binomial Likelihood: \n",
    "- Binomial Probabiltiy Density Function: `f(x) = (ᴺｘ) Θˣ (1-Θ)ᴺ⁻ˣ`\n",
    "    - function of `x`\n",
    "- Beta Probability Density Function: `g(Θ) = (1 / (B(𝜶,β))) Θᵅ⁻¹ (1-Θ)^(β-1)`\n",
    "    - function of `Θ`\n",
    "- **`Θ`** = Probability of Success\n",
    "- **`x`** = Number of Successes\n",
    "- **`n`** = Number of Trials -> **`n-x`** = Number of Failures "
   ]
  },
  {
   "cell_type": "code",
   "execution_count": null,
   "metadata": {},
   "outputs": [],
   "source": []
  }
 ],
 "metadata": {
  "kernelspec": {
   "display_name": "Python 3.8.8 ('base')",
   "language": "python",
   "name": "python3"
  },
  "language_info": {
   "codemirror_mode": {
    "name": "ipython",
    "version": 3
   },
   "file_extension": ".py",
   "mimetype": "text/x-python",
   "name": "python",
   "nbconvert_exporter": "python",
   "pygments_lexer": "ipython3",
   "version": "3.8.8"
  },
  "orig_nbformat": 4,
  "vscode": {
   "interpreter": {
    "hash": "08a0dfaf3fa74e1b9a1bb705dbe1b2708914f992320bdd77350db063c3b717dd"
   }
  }
 },
 "nbformat": 4,
 "nbformat_minor": 2
}
