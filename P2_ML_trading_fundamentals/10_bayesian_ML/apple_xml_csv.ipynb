{
 "cells": [
  {
   "cell_type": "markdown",
   "metadata": {},
   "source": [
    "# **Apple Health Data XML -> CSV**\n",
    "---"
   ]
  },
  {
   "cell_type": "markdown",
   "metadata": {},
   "source": [
    "### Import Libraries"
   ]
  },
  {
   "cell_type": "code",
   "execution_count": 1,
   "metadata": {},
   "outputs": [],
   "source": [
    "import xml.etree.ElementTree as ET \n",
    "import pandas as pd \n",
    "import numpy as np\n",
    "import datetime as dt "
   ]
  },
  {
   "cell_type": "markdown",
   "metadata": {},
   "source": [
    "# **Apple Health Data Export: Data Exports to `XML`**\n",
    "---"
   ]
  },
  {
   "cell_type": "markdown",
   "metadata": {},
   "source": [
    "### Parse XML File into Element Tree Object "
   ]
  },
  {
   "cell_type": "code",
   "execution_count": 2,
   "metadata": {},
   "outputs": [],
   "source": [
    "# Parse XML file into an Element Tree Object\n",
    "tree = ET.parse('data/apple_health_export/export.xml')\n",
    "\n",
    "#extract attributes for every health record \n",
    "root = tree.getroot()\n",
    "record_list = [x.attrib for x in root.iter('Record')]"
   ]
  },
  {
   "cell_type": "markdown",
   "metadata": {},
   "source": [
    "### Create Pandas Dataframe "
   ]
  },
  {
   "cell_type": "code",
   "execution_count": 3,
   "metadata": {},
   "outputs": [
    {
     "data": {
      "text/html": [
       "<div>\n",
       "<style scoped>\n",
       "    .dataframe tbody tr th:only-of-type {\n",
       "        vertical-align: middle;\n",
       "    }\n",
       "\n",
       "    .dataframe tbody tr th {\n",
       "        vertical-align: top;\n",
       "    }\n",
       "\n",
       "    .dataframe thead th {\n",
       "        text-align: right;\n",
       "    }\n",
       "</style>\n",
       "<table border=\"1\" class=\"dataframe\">\n",
       "  <thead>\n",
       "    <tr style=\"text-align: right;\">\n",
       "      <th></th>\n",
       "      <th>type</th>\n",
       "      <th>sourceName</th>\n",
       "      <th>sourceVersion</th>\n",
       "      <th>unit</th>\n",
       "      <th>creationDate</th>\n",
       "      <th>startDate</th>\n",
       "      <th>endDate</th>\n",
       "      <th>value</th>\n",
       "      <th>device</th>\n",
       "    </tr>\n",
       "  </thead>\n",
       "  <tbody>\n",
       "    <tr>\n",
       "      <th>177481</th>\n",
       "      <td>HeadphoneAudioExposureEvent</td>\n",
       "      <td>Brighton Mini</td>\n",
       "      <td>15.6</td>\n",
       "      <td>NaN</td>\n",
       "      <td>2022-11-22 16:41:27</td>\n",
       "      <td>2022-11-16 18:17:49</td>\n",
       "      <td>2022-11-22 16:41:27</td>\n",
       "      <td>1.0</td>\n",
       "      <td>NaN</td>\n",
       "    </tr>\n",
       "    <tr>\n",
       "      <th>177482</th>\n",
       "      <td>HeadphoneAudioExposureEvent</td>\n",
       "      <td>Brighton Mini</td>\n",
       "      <td>15.6</td>\n",
       "      <td>NaN</td>\n",
       "      <td>2022-11-28 14:31:18</td>\n",
       "      <td>2022-11-22 16:41:27</td>\n",
       "      <td>2022-11-28 14:31:18</td>\n",
       "      <td>1.0</td>\n",
       "      <td>NaN</td>\n",
       "    </tr>\n",
       "    <tr>\n",
       "      <th>177483</th>\n",
       "      <td>HeadphoneAudioExposureEvent</td>\n",
       "      <td>Brighton Mini</td>\n",
       "      <td>15.6</td>\n",
       "      <td>NaN</td>\n",
       "      <td>2022-11-29 16:22:42</td>\n",
       "      <td>2022-11-28 14:31:18</td>\n",
       "      <td>2022-11-29 16:22:42</td>\n",
       "      <td>1.0</td>\n",
       "      <td>NaN</td>\n",
       "    </tr>\n",
       "    <tr>\n",
       "      <th>177484</th>\n",
       "      <td>HeadphoneAudioExposureEvent</td>\n",
       "      <td>Brighton Mini</td>\n",
       "      <td>15.6</td>\n",
       "      <td>NaN</td>\n",
       "      <td>2022-12-02 08:18:16</td>\n",
       "      <td>2022-11-29 16:22:42</td>\n",
       "      <td>2022-12-02 08:18:15</td>\n",
       "      <td>1.0</td>\n",
       "      <td>NaN</td>\n",
       "    </tr>\n",
       "    <tr>\n",
       "      <th>177485</th>\n",
       "      <td>HeadphoneAudioExposureEvent</td>\n",
       "      <td>Brighton Mini</td>\n",
       "      <td>15.6</td>\n",
       "      <td>NaN</td>\n",
       "      <td>2022-12-06 09:22:06</td>\n",
       "      <td>2022-12-02 08:18:15</td>\n",
       "      <td>2022-12-06 09:22:06</td>\n",
       "      <td>1.0</td>\n",
       "      <td>NaN</td>\n",
       "    </tr>\n",
       "  </tbody>\n",
       "</table>\n",
       "</div>"
      ],
      "text/plain": [
       "                               type     sourceName sourceVersion unit  \\\n",
       "177481  HeadphoneAudioExposureEvent  Brighton Mini          15.6  NaN   \n",
       "177482  HeadphoneAudioExposureEvent  Brighton Mini          15.6  NaN   \n",
       "177483  HeadphoneAudioExposureEvent  Brighton Mini          15.6  NaN   \n",
       "177484  HeadphoneAudioExposureEvent  Brighton Mini          15.6  NaN   \n",
       "177485  HeadphoneAudioExposureEvent  Brighton Mini          15.6  NaN   \n",
       "\n",
       "              creationDate           startDate             endDate  value  \\\n",
       "177481 2022-11-22 16:41:27 2022-11-16 18:17:49 2022-11-22 16:41:27    1.0   \n",
       "177482 2022-11-28 14:31:18 2022-11-22 16:41:27 2022-11-28 14:31:18    1.0   \n",
       "177483 2022-11-29 16:22:42 2022-11-28 14:31:18 2022-11-29 16:22:42    1.0   \n",
       "177484 2022-12-02 08:18:16 2022-11-29 16:22:42 2022-12-02 08:18:15    1.0   \n",
       "177485 2022-12-06 09:22:06 2022-12-02 08:18:15 2022-12-06 09:22:06    1.0   \n",
       "\n",
       "       device  \n",
       "177481    NaN  \n",
       "177482    NaN  \n",
       "177483    NaN  \n",
       "177484    NaN  \n",
       "177485    NaN  "
      ]
     },
     "execution_count": 3,
     "metadata": {},
     "output_type": "execute_result"
    }
   ],
   "source": [
    "# Create Pandas Dataframe \n",
    "record_data = pd.DataFrame(record_list)\n",
    "\n",
    "# Proper Type to Localized Timezone Dates \n",
    "for col in ['creationDate', 'startDate', 'endDate']:\n",
    "    record_data[col] = pd.to_datetime(record_data[col]).dt.tz_localize(None)\n",
    "\n",
    "# Value is Numeric, Nan if Fails \n",
    "record_data['value'] = pd.to_numeric(record_data['value'], errors='coerce')\n",
    "\n",
    "# some records do NOT measure anything (just count occurences)\n",
    "# fill with 1.0 (one time) makes easier to aggregate\n",
    "record_data['value'] = record_data['value'].fillna(1.0)\n",
    "\n",
    "# shorter observation names\n",
    "record_data['type'] = record_data['type'].str.replace('HKQuantityTypeIdentifier', '')\n",
    "record_data['type'] = record_data['type'].str.replace('HKCategoryTypeIdentifier', '')\n",
    "record_data.tail()"
   ]
  },
  {
   "cell_type": "code",
   "execution_count": 4,
   "metadata": {},
   "outputs": [
    {
     "name": "stdout",
     "output_type": "stream",
     "text": [
      "<class 'pandas.core.frame.DataFrame'>\n",
      "RangeIndex: 177486 entries, 0 to 177485\n",
      "Data columns (total 9 columns):\n",
      " #   Column         Non-Null Count   Dtype         \n",
      "---  ------         --------------   -----         \n",
      " 0   type           177486 non-null  object        \n",
      " 1   sourceName     177486 non-null  object        \n",
      " 2   sourceVersion  177486 non-null  object        \n",
      " 3   unit           177356 non-null  object        \n",
      " 4   creationDate   177486 non-null  datetime64[ns]\n",
      " 5   startDate      177486 non-null  datetime64[ns]\n",
      " 6   endDate        177486 non-null  datetime64[ns]\n",
      " 7   value          177486 non-null  float64       \n",
      " 8   device         177354 non-null  object        \n",
      "dtypes: datetime64[ns](3), float64(1), object(5)\n",
      "memory usage: 12.2+ MB\n"
     ]
    }
   ],
   "source": [
    "record_data.info()"
   ]
  },
  {
   "cell_type": "markdown",
   "metadata": {},
   "source": [
    "# **Usable Dataframes From `XML` Data**\n",
    "---"
   ]
  },
  {
   "cell_type": "markdown",
   "metadata": {},
   "source": [
    "# Pull Daily `StepCount` With *Intraday Times*\n"
   ]
  },
  {
   "cell_type": "code",
   "execution_count": 5,
   "metadata": {},
   "outputs": [
    {
     "data": {
      "text/html": [
       "<div>\n",
       "<style scoped>\n",
       "    .dataframe tbody tr th:only-of-type {\n",
       "        vertical-align: middle;\n",
       "    }\n",
       "\n",
       "    .dataframe tbody tr th {\n",
       "        vertical-align: top;\n",
       "    }\n",
       "\n",
       "    .dataframe thead th {\n",
       "        text-align: right;\n",
       "    }\n",
       "</style>\n",
       "<table border=\"1\" class=\"dataframe\">\n",
       "  <thead>\n",
       "    <tr style=\"text-align: right;\">\n",
       "      <th></th>\n",
       "      <th>value</th>\n",
       "      <th>time</th>\n",
       "    </tr>\n",
       "    <tr>\n",
       "      <th>date</th>\n",
       "      <th></th>\n",
       "      <th></th>\n",
       "    </tr>\n",
       "  </thead>\n",
       "  <tbody>\n",
       "    <tr>\n",
       "      <th>2021-12-21</th>\n",
       "      <td>220.0</td>\n",
       "      <td>13</td>\n",
       "    </tr>\n",
       "    <tr>\n",
       "      <th>2021-12-21</th>\n",
       "      <td>421.0</td>\n",
       "      <td>13</td>\n",
       "    </tr>\n",
       "    <tr>\n",
       "      <th>2021-12-21</th>\n",
       "      <td>119.0</td>\n",
       "      <td>13</td>\n",
       "    </tr>\n",
       "    <tr>\n",
       "      <th>2021-12-21</th>\n",
       "      <td>690.0</td>\n",
       "      <td>14</td>\n",
       "    </tr>\n",
       "    <tr>\n",
       "      <th>2021-12-21</th>\n",
       "      <td>201.0</td>\n",
       "      <td>14</td>\n",
       "    </tr>\n",
       "    <tr>\n",
       "      <th>...</th>\n",
       "      <td>...</td>\n",
       "      <td>...</td>\n",
       "    </tr>\n",
       "    <tr>\n",
       "      <th>2022-12-07</th>\n",
       "      <td>2.0</td>\n",
       "      <td>10</td>\n",
       "    </tr>\n",
       "    <tr>\n",
       "      <th>2022-12-07</th>\n",
       "      <td>53.0</td>\n",
       "      <td>10</td>\n",
       "    </tr>\n",
       "    <tr>\n",
       "      <th>2022-12-07</th>\n",
       "      <td>568.0</td>\n",
       "      <td>12</td>\n",
       "    </tr>\n",
       "    <tr>\n",
       "      <th>2022-12-07</th>\n",
       "      <td>366.0</td>\n",
       "      <td>13</td>\n",
       "    </tr>\n",
       "    <tr>\n",
       "      <th>2022-12-07</th>\n",
       "      <td>349.0</td>\n",
       "      <td>13</td>\n",
       "    </tr>\n",
       "  </tbody>\n",
       "</table>\n",
       "<p>16946 rows × 2 columns</p>\n",
       "</div>"
      ],
      "text/plain": [
       "            value  time\n",
       "date                   \n",
       "2021-12-21  220.0    13\n",
       "2021-12-21  421.0    13\n",
       "2021-12-21  119.0    13\n",
       "2021-12-21  690.0    14\n",
       "2021-12-21  201.0    14\n",
       "...           ...   ...\n",
       "2022-12-07    2.0    10\n",
       "2022-12-07   53.0    10\n",
       "2022-12-07  568.0    12\n",
       "2022-12-07  366.0    13\n",
       "2022-12-07  349.0    13\n",
       "\n",
       "[16946 rows x 2 columns]"
      ]
     },
     "execution_count": 5,
     "metadata": {},
     "output_type": "execute_result"
    }
   ],
   "source": [
    "# Make Dataframe with Only Step Count Data (Keeping Intraday Data)\n",
    "step_count_df = record_data[record_data['type'] == 'StepCount']\n",
    "\n",
    "\n",
    "# Only Keep StartDate\n",
    "step_count_df = step_count_df.drop(['type','sourceName', 'sourceVersion', 'unit', 'creationDate', 'endDate', 'device'], axis=1)\n",
    "\n",
    "# Split StartDate into Date and Time\n",
    "step_count_df['date'] = pd.to_datetime(step_count_df['startDate']).dt.date\n",
    "step_count_df['time'] = pd.to_datetime(step_count_df['startDate']).dt.hour\n",
    "step_count_df = step_count_df.drop(['startDate'], axis=1)\n",
    "\n",
    "# need this because without you end up with Unnamed:0 column from csv \n",
    "step_count_df.set_index('date', inplace=True)\n",
    "\n",
    "step_count_df"
   ]
  },
  {
   "cell_type": "markdown",
   "metadata": {},
   "source": [
    "### Pandas DF to CSV"
   ]
  },
  {
   "cell_type": "code",
   "execution_count": 6,
   "metadata": {},
   "outputs": [],
   "source": [
    "step_count_df.to_csv('data/step_count_intraday.csv')"
   ]
  },
  {
   "cell_type": "markdown",
   "metadata": {},
   "source": [
    "# Pull `StepCount` and `DistanceWalkingRunning` to Dataframe - Daily Sums"
   ]
  },
  {
   "cell_type": "code",
   "execution_count": 7,
   "metadata": {},
   "outputs": [
    {
     "data": {
      "text/html": [
       "<div>\n",
       "<style scoped>\n",
       "    .dataframe tbody tr th:only-of-type {\n",
       "        vertical-align: middle;\n",
       "    }\n",
       "\n",
       "    .dataframe tbody tr th {\n",
       "        vertical-align: top;\n",
       "    }\n",
       "\n",
       "    .dataframe thead th {\n",
       "        text-align: right;\n",
       "    }\n",
       "</style>\n",
       "<table border=\"1\" class=\"dataframe\">\n",
       "  <thead>\n",
       "    <tr style=\"text-align: right;\">\n",
       "      <th>type</th>\n",
       "      <th>StepCount</th>\n",
       "      <th>DistanceWalkingRunning</th>\n",
       "    </tr>\n",
       "    <tr>\n",
       "      <th>endDate</th>\n",
       "      <th></th>\n",
       "      <th></th>\n",
       "    </tr>\n",
       "  </thead>\n",
       "  <tbody>\n",
       "    <tr>\n",
       "      <th>2021-09-10</th>\n",
       "      <td>3246.0</td>\n",
       "      <td>1.309123</td>\n",
       "    </tr>\n",
       "    <tr>\n",
       "      <th>2021-09-11</th>\n",
       "      <td>10003.0</td>\n",
       "      <td>4.154720</td>\n",
       "    </tr>\n",
       "    <tr>\n",
       "      <th>2021-09-12</th>\n",
       "      <td>4812.0</td>\n",
       "      <td>2.097997</td>\n",
       "    </tr>\n",
       "    <tr>\n",
       "      <th>2021-09-13</th>\n",
       "      <td>4672.0</td>\n",
       "      <td>1.776384</td>\n",
       "    </tr>\n",
       "    <tr>\n",
       "      <th>2021-09-14</th>\n",
       "      <td>5914.0</td>\n",
       "      <td>2.324539</td>\n",
       "    </tr>\n",
       "    <tr>\n",
       "      <th>...</th>\n",
       "      <td>...</td>\n",
       "      <td>...</td>\n",
       "    </tr>\n",
       "    <tr>\n",
       "      <th>2022-12-03</th>\n",
       "      <td>12476.0</td>\n",
       "      <td>4.832174</td>\n",
       "    </tr>\n",
       "    <tr>\n",
       "      <th>2022-12-04</th>\n",
       "      <td>3428.0</td>\n",
       "      <td>1.365090</td>\n",
       "    </tr>\n",
       "    <tr>\n",
       "      <th>2022-12-05</th>\n",
       "      <td>16428.0</td>\n",
       "      <td>6.891993</td>\n",
       "    </tr>\n",
       "    <tr>\n",
       "      <th>2022-12-06</th>\n",
       "      <td>12660.0</td>\n",
       "      <td>5.101112</td>\n",
       "    </tr>\n",
       "    <tr>\n",
       "      <th>2022-12-07</th>\n",
       "      <td>4887.0</td>\n",
       "      <td>1.816336</td>\n",
       "    </tr>\n",
       "  </tbody>\n",
       "</table>\n",
       "<p>454 rows × 2 columns</p>\n",
       "</div>"
      ],
      "text/plain": [
       "type        StepCount  DistanceWalkingRunning\n",
       "endDate                                      \n",
       "2021-09-10     3246.0                1.309123\n",
       "2021-09-11    10003.0                4.154720\n",
       "2021-09-12     4812.0                2.097997\n",
       "2021-09-13     4672.0                1.776384\n",
       "2021-09-14     5914.0                2.324539\n",
       "...               ...                     ...\n",
       "2022-12-03    12476.0                4.832174\n",
       "2022-12-04     3428.0                1.365090\n",
       "2022-12-05    16428.0                6.891993\n",
       "2022-12-06    12660.0                5.101112\n",
       "2022-12-07     4887.0                1.816336\n",
       "\n",
       "[454 rows x 2 columns]"
      ]
     },
     "execution_count": 7,
     "metadata": {},
     "output_type": "execute_result"
    }
   ],
   "source": [
    "# pivot dataframe \n",
    "pivot_df = record_data.pivot_table(index='endDate', columns='type', values='value')\n",
    "# sum StepCount and DistanceWalkingRunning \n",
    "df = pivot_df.resample('D').agg({'StepCount' : sum,\n",
    "                                 'DistanceWalkingRunning' : sum})\n",
    "                                 \n",
    "df.index = df.index.strftime('%Y-%m-%d')\n",
    "df"
   ]
  },
  {
   "cell_type": "markdown",
   "metadata": {},
   "source": [
    "### Pandas DF to CSV "
   ]
  },
  {
   "cell_type": "code",
   "execution_count": 8,
   "metadata": {},
   "outputs": [],
   "source": [
    "df.to_csv('data/steps_distance.csv')"
   ]
  },
  {
   "cell_type": "code",
   "execution_count": null,
   "metadata": {},
   "outputs": [],
   "source": []
  }
 ],
 "metadata": {
  "kernelspec": {
   "display_name": "Python 3.8.8 ('base')",
   "language": "python",
   "name": "python3"
  },
  "language_info": {
   "codemirror_mode": {
    "name": "ipython",
    "version": 3
   },
   "file_extension": ".py",
   "mimetype": "text/x-python",
   "name": "python",
   "nbconvert_exporter": "python",
   "pygments_lexer": "ipython3",
   "version": "3.8.8"
  },
  "orig_nbformat": 4,
  "vscode": {
   "interpreter": {
    "hash": "08a0dfaf3fa74e1b9a1bb705dbe1b2708914f992320bdd77350db063c3b717dd"
   }
  }
 },
 "nbformat": 4,
 "nbformat_minor": 2
}
