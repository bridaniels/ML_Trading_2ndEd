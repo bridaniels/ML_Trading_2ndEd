{
 "cells": [
  {
   "cell_type": "markdown",
   "metadata": {},
   "source": [
    "# **Apple Health Data XML -> CSV**\n",
    "---"
   ]
  },
  {
   "cell_type": "markdown",
   "metadata": {},
   "source": [
    "### Import Libraries"
   ]
  },
  {
   "cell_type": "code",
   "execution_count": 1,
   "metadata": {},
   "outputs": [],
   "source": [
    "import xml.etree.ElementTree as ET \n",
    "import pandas as pd \n",
    "import numpy as np\n",
    "import datetime as dt "
   ]
  },
  {
   "cell_type": "markdown",
   "metadata": {},
   "source": [
    "### Parse XML File into Element Tree Object "
   ]
  },
  {
   "cell_type": "code",
   "execution_count": 2,
   "metadata": {},
   "outputs": [],
   "source": [
    "# Parse XML file into an Element Tree Object\n",
    "tree = ET.parse('data/export.xml')\n",
    "\n",
    "#extract attributes for every health record \n",
    "root = tree.getroot()\n",
    "record_list = [x.attrib for x in root.iter('Record')]"
   ]
  },
  {
   "cell_type": "markdown",
   "metadata": {},
   "source": [
    "### Create Pandas Dataframe "
   ]
  },
  {
   "cell_type": "code",
   "execution_count": 3,
   "metadata": {},
   "outputs": [
    {
     "data": {
      "text/html": [
       "<div>\n",
       "<style scoped>\n",
       "    .dataframe tbody tr th:only-of-type {\n",
       "        vertical-align: middle;\n",
       "    }\n",
       "\n",
       "    .dataframe tbody tr th {\n",
       "        vertical-align: top;\n",
       "    }\n",
       "\n",
       "    .dataframe thead th {\n",
       "        text-align: right;\n",
       "    }\n",
       "</style>\n",
       "<table border=\"1\" class=\"dataframe\">\n",
       "  <thead>\n",
       "    <tr style=\"text-align: right;\">\n",
       "      <th></th>\n",
       "      <th>type</th>\n",
       "      <th>sourceName</th>\n",
       "      <th>sourceVersion</th>\n",
       "      <th>unit</th>\n",
       "      <th>creationDate</th>\n",
       "      <th>startDate</th>\n",
       "      <th>endDate</th>\n",
       "      <th>value</th>\n",
       "      <th>device</th>\n",
       "    </tr>\n",
       "  </thead>\n",
       "  <tbody>\n",
       "    <tr>\n",
       "      <th>177481</th>\n",
       "      <td>HeadphoneAudioExposureEvent</td>\n",
       "      <td>Brighton Mini</td>\n",
       "      <td>15.6</td>\n",
       "      <td>NaN</td>\n",
       "      <td>2022-11-22 16:41:27-05:00</td>\n",
       "      <td>2022-11-16 18:17:49-05:00</td>\n",
       "      <td>2022-11-22 16:41:27-05:00</td>\n",
       "      <td>1.0</td>\n",
       "      <td>NaN</td>\n",
       "    </tr>\n",
       "    <tr>\n",
       "      <th>177482</th>\n",
       "      <td>HeadphoneAudioExposureEvent</td>\n",
       "      <td>Brighton Mini</td>\n",
       "      <td>15.6</td>\n",
       "      <td>NaN</td>\n",
       "      <td>2022-11-28 14:31:18-05:00</td>\n",
       "      <td>2022-11-22 16:41:27-05:00</td>\n",
       "      <td>2022-11-28 14:31:18-05:00</td>\n",
       "      <td>1.0</td>\n",
       "      <td>NaN</td>\n",
       "    </tr>\n",
       "    <tr>\n",
       "      <th>177483</th>\n",
       "      <td>HeadphoneAudioExposureEvent</td>\n",
       "      <td>Brighton Mini</td>\n",
       "      <td>15.6</td>\n",
       "      <td>NaN</td>\n",
       "      <td>2022-11-29 16:22:42-05:00</td>\n",
       "      <td>2022-11-28 14:31:18-05:00</td>\n",
       "      <td>2022-11-29 16:22:42-05:00</td>\n",
       "      <td>1.0</td>\n",
       "      <td>NaN</td>\n",
       "    </tr>\n",
       "    <tr>\n",
       "      <th>177484</th>\n",
       "      <td>HeadphoneAudioExposureEvent</td>\n",
       "      <td>Brighton Mini</td>\n",
       "      <td>15.6</td>\n",
       "      <td>NaN</td>\n",
       "      <td>2022-12-02 08:18:16-05:00</td>\n",
       "      <td>2022-11-29 16:22:42-05:00</td>\n",
       "      <td>2022-12-02 08:18:15-05:00</td>\n",
       "      <td>1.0</td>\n",
       "      <td>NaN</td>\n",
       "    </tr>\n",
       "    <tr>\n",
       "      <th>177485</th>\n",
       "      <td>HeadphoneAudioExposureEvent</td>\n",
       "      <td>Brighton Mini</td>\n",
       "      <td>15.6</td>\n",
       "      <td>NaN</td>\n",
       "      <td>2022-12-06 09:22:06-05:00</td>\n",
       "      <td>2022-12-02 08:18:15-05:00</td>\n",
       "      <td>2022-12-06 09:22:06-05:00</td>\n",
       "      <td>1.0</td>\n",
       "      <td>NaN</td>\n",
       "    </tr>\n",
       "  </tbody>\n",
       "</table>\n",
       "</div>"
      ],
      "text/plain": [
       "                               type     sourceName sourceVersion unit  \\\n",
       "177481  HeadphoneAudioExposureEvent  Brighton Mini          15.6  NaN   \n",
       "177482  HeadphoneAudioExposureEvent  Brighton Mini          15.6  NaN   \n",
       "177483  HeadphoneAudioExposureEvent  Brighton Mini          15.6  NaN   \n",
       "177484  HeadphoneAudioExposureEvent  Brighton Mini          15.6  NaN   \n",
       "177485  HeadphoneAudioExposureEvent  Brighton Mini          15.6  NaN   \n",
       "\n",
       "                    creationDate                 startDate  \\\n",
       "177481 2022-11-22 16:41:27-05:00 2022-11-16 18:17:49-05:00   \n",
       "177482 2022-11-28 14:31:18-05:00 2022-11-22 16:41:27-05:00   \n",
       "177483 2022-11-29 16:22:42-05:00 2022-11-28 14:31:18-05:00   \n",
       "177484 2022-12-02 08:18:16-05:00 2022-11-29 16:22:42-05:00   \n",
       "177485 2022-12-06 09:22:06-05:00 2022-12-02 08:18:15-05:00   \n",
       "\n",
       "                         endDate  value device  \n",
       "177481 2022-11-22 16:41:27-05:00    1.0    NaN  \n",
       "177482 2022-11-28 14:31:18-05:00    1.0    NaN  \n",
       "177483 2022-11-29 16:22:42-05:00    1.0    NaN  \n",
       "177484 2022-12-02 08:18:15-05:00    1.0    NaN  \n",
       "177485 2022-12-06 09:22:06-05:00    1.0    NaN  "
      ]
     },
     "execution_count": 3,
     "metadata": {},
     "output_type": "execute_result"
    }
   ],
   "source": [
    "# Create Pandas Dataframe \n",
    "record_data = pd.DataFrame(record_list)\n",
    "\n",
    "# Proper Type to Dates \n",
    "for col in ['creationDate', 'startDate', 'endDate']:\n",
    "    record_data[col] = pd.to_datetime(record_data[col])\n",
    "\n",
    "# Value is Numeric, Nan if Fails \n",
    "record_data['value'] = pd.to_numeric(record_data['value'], errors='coerce')\n",
    "\n",
    "# some records do NOT measure anything (just count occurences)\n",
    "# fill with 1.0 (one time) makes easier to aggregate\n",
    "record_data['value'] = record_data['value'].fillna(1.0)\n",
    "\n",
    "# shorter observation names\n",
    "record_data['type'] = record_data['type'].str.replace('HKQuantityTypeIdentifier', '')\n",
    "record_data['type'] = record_data['type'].str.replace('HKCategoryTypeIdentifier', '')\n",
    "record_data.tail()"
   ]
  },
  {
   "cell_type": "code",
   "execution_count": 4,
   "metadata": {},
   "outputs": [
    {
     "name": "stdout",
     "output_type": "stream",
     "text": [
      "<class 'pandas.core.frame.DataFrame'>\n",
      "RangeIndex: 177486 entries, 0 to 177485\n",
      "Data columns (total 9 columns):\n",
      " #   Column         Non-Null Count   Dtype                                 \n",
      "---  ------         --------------   -----                                 \n",
      " 0   type           177486 non-null  object                                \n",
      " 1   sourceName     177486 non-null  object                                \n",
      " 2   sourceVersion  177486 non-null  object                                \n",
      " 3   unit           177356 non-null  object                                \n",
      " 4   creationDate   177486 non-null  datetime64[ns, pytz.FixedOffset(-300)]\n",
      " 5   startDate      177486 non-null  datetime64[ns, pytz.FixedOffset(-300)]\n",
      " 6   endDate        177486 non-null  datetime64[ns, pytz.FixedOffset(-300)]\n",
      " 7   value          177486 non-null  float64                               \n",
      " 8   device         177354 non-null  object                                \n",
      "dtypes: datetime64[ns, pytz.FixedOffset(-300)](3), float64(1), object(5)\n",
      "memory usage: 12.2+ MB\n"
     ]
    }
   ],
   "source": [
    "record_data.info()"
   ]
  },
  {
   "cell_type": "markdown",
   "metadata": {},
   "source": [
    "# Pull `StepCount` and `DistanceWalkingRunning` to Dataframe "
   ]
  },
  {
   "cell_type": "code",
   "execution_count": 5,
   "metadata": {},
   "outputs": [
    {
     "data": {
      "text/html": [
       "<div>\n",
       "<style scoped>\n",
       "    .dataframe tbody tr th:only-of-type {\n",
       "        vertical-align: middle;\n",
       "    }\n",
       "\n",
       "    .dataframe tbody tr th {\n",
       "        vertical-align: top;\n",
       "    }\n",
       "\n",
       "    .dataframe thead th {\n",
       "        text-align: right;\n",
       "    }\n",
       "</style>\n",
       "<table border=\"1\" class=\"dataframe\">\n",
       "  <thead>\n",
       "    <tr style=\"text-align: right;\">\n",
       "      <th>type</th>\n",
       "      <th>StepCount</th>\n",
       "      <th>DistanceWalkingRunning</th>\n",
       "    </tr>\n",
       "    <tr>\n",
       "      <th>endDate</th>\n",
       "      <th></th>\n",
       "      <th></th>\n",
       "    </tr>\n",
       "  </thead>\n",
       "  <tbody>\n",
       "    <tr>\n",
       "      <th>2021-09-10</th>\n",
       "      <td>3246.0</td>\n",
       "      <td>1.309123</td>\n",
       "    </tr>\n",
       "    <tr>\n",
       "      <th>2021-09-11</th>\n",
       "      <td>10003.0</td>\n",
       "      <td>4.154720</td>\n",
       "    </tr>\n",
       "    <tr>\n",
       "      <th>2021-09-12</th>\n",
       "      <td>4812.0</td>\n",
       "      <td>2.097997</td>\n",
       "    </tr>\n",
       "    <tr>\n",
       "      <th>2021-09-13</th>\n",
       "      <td>4672.0</td>\n",
       "      <td>1.776384</td>\n",
       "    </tr>\n",
       "    <tr>\n",
       "      <th>2021-09-14</th>\n",
       "      <td>5914.0</td>\n",
       "      <td>2.324539</td>\n",
       "    </tr>\n",
       "    <tr>\n",
       "      <th>...</th>\n",
       "      <td>...</td>\n",
       "      <td>...</td>\n",
       "    </tr>\n",
       "    <tr>\n",
       "      <th>2022-12-03</th>\n",
       "      <td>12476.0</td>\n",
       "      <td>4.832174</td>\n",
       "    </tr>\n",
       "    <tr>\n",
       "      <th>2022-12-04</th>\n",
       "      <td>3428.0</td>\n",
       "      <td>1.365090</td>\n",
       "    </tr>\n",
       "    <tr>\n",
       "      <th>2022-12-05</th>\n",
       "      <td>16428.0</td>\n",
       "      <td>6.891993</td>\n",
       "    </tr>\n",
       "    <tr>\n",
       "      <th>2022-12-06</th>\n",
       "      <td>12660.0</td>\n",
       "      <td>5.101112</td>\n",
       "    </tr>\n",
       "    <tr>\n",
       "      <th>2022-12-07</th>\n",
       "      <td>4887.0</td>\n",
       "      <td>1.816336</td>\n",
       "    </tr>\n",
       "  </tbody>\n",
       "</table>\n",
       "<p>454 rows × 2 columns</p>\n",
       "</div>"
      ],
      "text/plain": [
       "type        StepCount  DistanceWalkingRunning\n",
       "endDate                                      \n",
       "2021-09-10     3246.0                1.309123\n",
       "2021-09-11    10003.0                4.154720\n",
       "2021-09-12     4812.0                2.097997\n",
       "2021-09-13     4672.0                1.776384\n",
       "2021-09-14     5914.0                2.324539\n",
       "...               ...                     ...\n",
       "2022-12-03    12476.0                4.832174\n",
       "2022-12-04     3428.0                1.365090\n",
       "2022-12-05    16428.0                6.891993\n",
       "2022-12-06    12660.0                5.101112\n",
       "2022-12-07     4887.0                1.816336\n",
       "\n",
       "[454 rows x 2 columns]"
      ]
     },
     "execution_count": 5,
     "metadata": {},
     "output_type": "execute_result"
    }
   ],
   "source": [
    "# pivot dataframe \n",
    "pivot_df = record_data.pivot_table(index='endDate', columns='type', values='value')\n",
    "# sum StepCount and DistanceWalkingRunning \n",
    "df = pivot_df.resample('D').agg({'StepCount' : sum,\n",
    "                                 'DistanceWalkingRunning' : sum})\n",
    "                                 \n",
    "df.index = df.index.strftime('%Y-%m-%d')\n",
    "df"
   ]
  },
  {
   "cell_type": "markdown",
   "metadata": {},
   "source": [
    "### Pandas DF to CSV "
   ]
  },
  {
   "cell_type": "code",
   "execution_count": 6,
   "metadata": {},
   "outputs": [],
   "source": [
    "df.to_csv('data/steps_distance.csv')"
   ]
  },
  {
   "cell_type": "code",
   "execution_count": null,
   "metadata": {},
   "outputs": [],
   "source": []
  }
 ],
 "metadata": {
  "kernelspec": {
   "display_name": "Python 3.8.8 ('base')",
   "language": "python",
   "name": "python3"
  },
  "language_info": {
   "codemirror_mode": {
    "name": "ipython",
    "version": 3
   },
   "file_extension": ".py",
   "mimetype": "text/x-python",
   "name": "python",
   "nbconvert_exporter": "python",
   "pygments_lexer": "ipython3",
   "version": "3.8.8"
  },
  "orig_nbformat": 4,
  "vscode": {
   "interpreter": {
    "hash": "08a0dfaf3fa74e1b9a1bb705dbe1b2708914f992320bdd77350db063c3b717dd"
   }
  }
 },
 "nbformat": 4,
 "nbformat_minor": 2
}
