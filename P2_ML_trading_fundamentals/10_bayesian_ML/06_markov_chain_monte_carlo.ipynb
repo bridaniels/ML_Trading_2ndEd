{
 "cells": [
  {
   "cell_type": "markdown",
   "metadata": {},
   "source": [
    "# Markov Chain Monte Carlo (MCMC) Sampling: \n",
    "---\n",
    "[Toward Data Science: Monte Carlo Markov Chain (MCMC), Exlplained](https://towardsdatascience.com/monte-carlo-markov-chain-mcmc-explained-94e3a6c8de11)\n",
    "- about drawing samples from a given distribution: *estimating using randomness*\n",
    "- **Independent Samples:** averages over samples can be used as unbiased estimators of expected values of parameters in the distribtuion \n",
    "    - *Discrete Samples:*\n",
    "        - *law of large numbers:* growing sample base, fraction of an instance corresponds to its probability \n",
    "    - *Continuous Samples:*\n",
    "        - analogous reasoning applies to a given region of the sample space \n",
    "- **Practical Challenge:** ensuring independent sampling because the distribution is *unknown*\n",
    "    - *dependent samples* can still be unbiased (tend to increase estimate's variance)\n",
    "    - more smples will be needed for a more precise estimate \n",
    "\n",
    "\n",
    "#### Sampling from a Multivariate Distribution is Computationally Demanding: number of *states* increases **exponentially** with the number of *dimensions*\n",
    "\n",
    "#### [Stochastic:](https://en.wikipedia.org/wiki/Stochastic)\n",
    "- modeling approach for a random probability distribution \n",
    "- means \"aim\" or \"guess\" in greek\n",
    "- *Stochastic Process* -> *Random Process*"
   ]
  },
  {
   "cell_type": "markdown",
   "metadata": {},
   "source": [
    "## Monte Carlo Methods:\n",
    "---\n",
    "- Rely on repeated random sampling to approximate results (memoryless)\n",
    "- may be determinisitc -> do not permit an exact analytical solution \n",
    "- **Identify** and **Explore** regions of the *posterior* that concentrate significant probability density \n",
    "    - converges when it consistently moves through nearby high-probability states of the posterior where acceptance rates increase \n",
    "    - *Challenge*: balance need for random exploration withthe risk of reducing the acceptance rate \n",
    "- developed during Manhattan Project for the Atomic Bomb\n",
    "\n",
    "> ## Monte Carlo Method applied to a Markov Chain Process: \n",
    "> 1. Start at *Current* Position\n",
    "> 2. Draw a *New* Position from a *Proposal Distribution*\n",
    "> 3. Evaluate the Probability of the Nw Position in Light of *Data* and *Prior Positions*\n",
    ">       - if sufficiently likely -> move to new position \n",
    ">       - otherwise -> remain at current position \n",
    "> 4. *Repeat from *Step 1**\n",
    "> 5. After a Given Number of Iterations, Return all Accepted Positions \n",
    "\n",
    "- *Initial Steps* are typically more reflective of the starting position than the posterior\n",
    "    - typically discarded as: *Burn-In *Samples**\n",
    "    - should forget about initial starting point after a certain number of iterations \n",
    "- *Remaining Samples* are called the **TRACE** of the process\n",
    "    - *law of large numbers*: relative frequency of samples approximates the posterior and can be used to compute expected values "
   ]
  },
  {
   "cell_type": "markdown",
   "metadata": {},
   "source": [
    "### Import Libraries"
   ]
  },
  {
   "cell_type": "code",
   "execution_count": 1,
   "metadata": {},
   "outputs": [],
   "source": [
    "import pandas as pd \n",
    "import numpy as np\n",
    "import datetime as dt \n",
    "\n",
    "from datetime import date, datetime, timedelta as td "
   ]
  },
  {
   "cell_type": "code",
   "execution_count": 2,
   "metadata": {},
   "outputs": [],
   "source": [
    "import matplotlib.dates as mdates\n",
    "import matplotlib.pyplot as plt \n",
    "import seaborn as sns \n",
    "\n",
    "from matplotlib.axis import Axis\n",
    "\n",
    "%matplotlib inline"
   ]
  },
  {
   "cell_type": "markdown",
   "metadata": {},
   "source": [
    "# [Example](https://towardsdatascience.com/markov-chain-monte-carlo-in-python-44f7e609be98)\n",
    "---\n",
    "[GitHub](https://github.com/WillKoehrsen/ai-projects/blob/master/markov_chain_monte_carlo/markov_chain_monte_carlo.ipynb)"
   ]
  },
  {
   "cell_type": "markdown",
   "metadata": {},
   "source": [
    "- Use sleep data to create a model that specifies the posterior probability of sleep as a function of time \n",
    "- time = continuous variable \n",
    "    - unable to specify the entire posterior distribution \n",
    "    - turn to methods that approximate a distribution (aka MCMC)"
   ]
  },
  {
   "cell_type": "markdown",
   "metadata": {},
   "source": [
    "### [How To Analyze Apple Health Data With Python](https://www.python-engineer.com/posts/apple-health-data-python/)\n",
    "### [Analyse your Health with Python and Apple Health](https://towardsdatascience.com/analyse-your-health-with-python-and-apple-health-11c12894aae2)"
   ]
  },
  {
   "cell_type": "markdown",
   "metadata": {},
   "source": [
    "# Apple Health Data XML -> CSV\n",
    "--- \n"
   ]
  },
  {
   "cell_type": "markdown",
   "metadata": {},
   "source": [
    "### Import `.csv` Data "
   ]
  },
  {
   "cell_type": "code",
   "execution_count": 98,
   "metadata": {},
   "outputs": [],
   "source": [
    "df = pd.read_csv('data/steps_distance.csv')"
   ]
  },
  {
   "cell_type": "markdown",
   "metadata": {},
   "source": [
    "### Grouping Data By: *Year, Month, Day, and Day of Week Index*"
   ]
  },
  {
   "cell_type": "code",
   "execution_count": 99,
   "metadata": {},
   "outputs": [
    {
     "data": {
      "text/html": [
       "<div>\n",
       "<style scoped>\n",
       "    .dataframe tbody tr th:only-of-type {\n",
       "        vertical-align: middle;\n",
       "    }\n",
       "\n",
       "    .dataframe tbody tr th {\n",
       "        vertical-align: top;\n",
       "    }\n",
       "\n",
       "    .dataframe thead th {\n",
       "        text-align: right;\n",
       "    }\n",
       "</style>\n",
       "<table border=\"1\" class=\"dataframe\">\n",
       "  <thead>\n",
       "    <tr style=\"text-align: right;\">\n",
       "      <th></th>\n",
       "      <th>endDate</th>\n",
       "      <th>StepCount</th>\n",
       "      <th>DistanceWalkingRunning</th>\n",
       "      <th>year</th>\n",
       "      <th>month</th>\n",
       "      <th>day</th>\n",
       "      <th>day_of_week</th>\n",
       "    </tr>\n",
       "  </thead>\n",
       "  <tbody>\n",
       "    <tr>\n",
       "      <th>0</th>\n",
       "      <td>2021-09-10</td>\n",
       "      <td>3246.0</td>\n",
       "      <td>1.309123</td>\n",
       "      <td>2021</td>\n",
       "      <td>9</td>\n",
       "      <td>10</td>\n",
       "      <td>4</td>\n",
       "    </tr>\n",
       "    <tr>\n",
       "      <th>1</th>\n",
       "      <td>2021-09-11</td>\n",
       "      <td>10003.0</td>\n",
       "      <td>4.154720</td>\n",
       "      <td>2021</td>\n",
       "      <td>9</td>\n",
       "      <td>11</td>\n",
       "      <td>5</td>\n",
       "    </tr>\n",
       "    <tr>\n",
       "      <th>2</th>\n",
       "      <td>2021-09-12</td>\n",
       "      <td>4812.0</td>\n",
       "      <td>2.097997</td>\n",
       "      <td>2021</td>\n",
       "      <td>9</td>\n",
       "      <td>12</td>\n",
       "      <td>6</td>\n",
       "    </tr>\n",
       "    <tr>\n",
       "      <th>3</th>\n",
       "      <td>2021-09-13</td>\n",
       "      <td>4672.0</td>\n",
       "      <td>1.776384</td>\n",
       "      <td>2021</td>\n",
       "      <td>9</td>\n",
       "      <td>13</td>\n",
       "      <td>0</td>\n",
       "    </tr>\n",
       "    <tr>\n",
       "      <th>4</th>\n",
       "      <td>2021-09-14</td>\n",
       "      <td>5914.0</td>\n",
       "      <td>2.324539</td>\n",
       "      <td>2021</td>\n",
       "      <td>9</td>\n",
       "      <td>14</td>\n",
       "      <td>1</td>\n",
       "    </tr>\n",
       "    <tr>\n",
       "      <th>...</th>\n",
       "      <td>...</td>\n",
       "      <td>...</td>\n",
       "      <td>...</td>\n",
       "      <td>...</td>\n",
       "      <td>...</td>\n",
       "      <td>...</td>\n",
       "      <td>...</td>\n",
       "    </tr>\n",
       "    <tr>\n",
       "      <th>449</th>\n",
       "      <td>2022-12-03</td>\n",
       "      <td>12476.0</td>\n",
       "      <td>4.832174</td>\n",
       "      <td>2022</td>\n",
       "      <td>12</td>\n",
       "      <td>3</td>\n",
       "      <td>5</td>\n",
       "    </tr>\n",
       "    <tr>\n",
       "      <th>450</th>\n",
       "      <td>2022-12-04</td>\n",
       "      <td>3428.0</td>\n",
       "      <td>1.365090</td>\n",
       "      <td>2022</td>\n",
       "      <td>12</td>\n",
       "      <td>4</td>\n",
       "      <td>6</td>\n",
       "    </tr>\n",
       "    <tr>\n",
       "      <th>451</th>\n",
       "      <td>2022-12-05</td>\n",
       "      <td>16428.0</td>\n",
       "      <td>6.891993</td>\n",
       "      <td>2022</td>\n",
       "      <td>12</td>\n",
       "      <td>5</td>\n",
       "      <td>0</td>\n",
       "    </tr>\n",
       "    <tr>\n",
       "      <th>452</th>\n",
       "      <td>2022-12-06</td>\n",
       "      <td>12660.0</td>\n",
       "      <td>5.101112</td>\n",
       "      <td>2022</td>\n",
       "      <td>12</td>\n",
       "      <td>6</td>\n",
       "      <td>1</td>\n",
       "    </tr>\n",
       "    <tr>\n",
       "      <th>453</th>\n",
       "      <td>2022-12-07</td>\n",
       "      <td>4887.0</td>\n",
       "      <td>1.816336</td>\n",
       "      <td>2022</td>\n",
       "      <td>12</td>\n",
       "      <td>7</td>\n",
       "      <td>2</td>\n",
       "    </tr>\n",
       "  </tbody>\n",
       "</table>\n",
       "<p>454 rows × 7 columns</p>\n",
       "</div>"
      ],
      "text/plain": [
       "       endDate  StepCount  DistanceWalkingRunning  year  month  day  \\\n",
       "0   2021-09-10     3246.0                1.309123  2021      9   10   \n",
       "1   2021-09-11    10003.0                4.154720  2021      9   11   \n",
       "2   2021-09-12     4812.0                2.097997  2021      9   12   \n",
       "3   2021-09-13     4672.0                1.776384  2021      9   13   \n",
       "4   2021-09-14     5914.0                2.324539  2021      9   14   \n",
       "..         ...        ...                     ...   ...    ...  ...   \n",
       "449 2022-12-03    12476.0                4.832174  2022     12    3   \n",
       "450 2022-12-04     3428.0                1.365090  2022     12    4   \n",
       "451 2022-12-05    16428.0                6.891993  2022     12    5   \n",
       "452 2022-12-06    12660.0                5.101112  2022     12    6   \n",
       "453 2022-12-07     4887.0                1.816336  2022     12    7   \n",
       "\n",
       "     day_of_week  \n",
       "0              4  \n",
       "1              5  \n",
       "2              6  \n",
       "3              0  \n",
       "4              1  \n",
       "..           ...  \n",
       "449            5  \n",
       "450            6  \n",
       "451            0  \n",
       "452            1  \n",
       "453            2  \n",
       "\n",
       "[454 rows x 7 columns]"
      ]
     },
     "execution_count": 99,
     "metadata": {},
     "output_type": "execute_result"
    }
   ],
   "source": [
    "df['endDate'] = pd.to_datetime(df['endDate'])\n",
    "\n",
    "df['year'] = df['endDate'].dt.year\n",
    "df['month'] = df['endDate'].dt.month\n",
    "df['day'] = df['endDate'].dt.day\n",
    "df['day_of_week'] = df['endDate'].dt.day_of_week\n",
    "\n",
    "df"
   ]
  },
  {
   "cell_type": "markdown",
   "metadata": {},
   "source": [
    "### Monthly Steps"
   ]
  },
  {
   "cell_type": "code",
   "execution_count": 100,
   "metadata": {},
   "outputs": [
    {
     "data": {
      "text/plain": [
       "(year  month\n",
       " 2021  9         8244.333333\n",
       "       10        8224.935484\n",
       "       11        8433.200000\n",
       "       12        7616.451613\n",
       " 2022  1         6254.032258\n",
       "       2         7283.071429\n",
       "       3         8420.709677\n",
       "       4        10936.133333\n",
       "       5        11844.967742\n",
       "       6        12825.633333\n",
       "       7         9818.548387\n",
       "       8        12549.225806\n",
       "       9        12403.066667\n",
       "       10       11764.645161\n",
       "       11        9272.233333\n",
       "       12        9391.428571\n",
       " Name: StepCount, dtype: float64,\n",
       " year  month\n",
       " 2021  9        173131.0\n",
       "       10       254973.0\n",
       "       11       252996.0\n",
       "       12       236110.0\n",
       " 2022  1        193875.0\n",
       "       2        203926.0\n",
       "       3        261042.0\n",
       "       4        328084.0\n",
       "       5        367194.0\n",
       "       6        384769.0\n",
       "       7        304375.0\n",
       "       8        389026.0\n",
       "       9        372092.0\n",
       "       10       364704.0\n",
       "       11       278167.0\n",
       "       12        65740.0\n",
       " Name: StepCount, dtype: float64)"
      ]
     },
     "execution_count": 100,
     "metadata": {},
     "output_type": "execute_result"
    }
   ],
   "source": [
    "monthly_steps_avg = df.groupby(['year', 'month'])['StepCount'].mean()\n",
    "monthly_steps_sum = df.groupby(['year', 'month'])['StepCount'].sum()\n",
    "\n",
    "monthly_steps_avg, monthly_steps_sum"
   ]
  },
  {
   "cell_type": "markdown",
   "metadata": {},
   "source": [
    "### External Data Calculations: Rolling Average "
   ]
  },
  {
   "cell_type": "code",
   "execution_count": 153,
   "metadata": {},
   "outputs": [
    {
     "data": {
      "text/html": [
       "<div>\n",
       "<style scoped>\n",
       "    .dataframe tbody tr th:only-of-type {\n",
       "        vertical-align: middle;\n",
       "    }\n",
       "\n",
       "    .dataframe tbody tr th {\n",
       "        vertical-align: top;\n",
       "    }\n",
       "\n",
       "    .dataframe thead th {\n",
       "        text-align: right;\n",
       "    }\n",
       "</style>\n",
       "<table border=\"1\" class=\"dataframe\">\n",
       "  <thead>\n",
       "    <tr style=\"text-align: right;\">\n",
       "      <th></th>\n",
       "      <th>StepCount</th>\n",
       "      <th>RollingMeanSteps</th>\n",
       "    </tr>\n",
       "    <tr>\n",
       "      <th>endDate</th>\n",
       "      <th></th>\n",
       "      <th></th>\n",
       "    </tr>\n",
       "  </thead>\n",
       "  <tbody>\n",
       "    <tr>\n",
       "      <th>2021-09-15</th>\n",
       "      <td>2819.0</td>\n",
       "      <td>5705.8</td>\n",
       "    </tr>\n",
       "    <tr>\n",
       "      <th>2021-09-16</th>\n",
       "      <td>12172.0</td>\n",
       "      <td>6102.8</td>\n",
       "    </tr>\n",
       "    <tr>\n",
       "      <th>2021-09-17</th>\n",
       "      <td>2975.0</td>\n",
       "      <td>6354.2</td>\n",
       "    </tr>\n",
       "    <tr>\n",
       "      <th>2021-09-18</th>\n",
       "      <td>7697.0</td>\n",
       "      <td>6854.1</td>\n",
       "    </tr>\n",
       "    <tr>\n",
       "      <th>2021-09-19</th>\n",
       "      <td>2748.0</td>\n",
       "      <td>6728.5</td>\n",
       "    </tr>\n",
       "    <tr>\n",
       "      <th>...</th>\n",
       "      <td>...</td>\n",
       "      <td>...</td>\n",
       "    </tr>\n",
       "    <tr>\n",
       "      <th>2022-11-29</th>\n",
       "      <td>13658.0</td>\n",
       "      <td>9989.4</td>\n",
       "    </tr>\n",
       "    <tr>\n",
       "      <th>2022-11-30</th>\n",
       "      <td>8805.0</td>\n",
       "      <td>8784.7</td>\n",
       "    </tr>\n",
       "    <tr>\n",
       "      <th>2022-12-01</th>\n",
       "      <td>6577.0</td>\n",
       "      <td>9227.1</td>\n",
       "    </tr>\n",
       "    <tr>\n",
       "      <th>2022-12-02</th>\n",
       "      <td>9284.0</td>\n",
       "      <td>10149.2</td>\n",
       "    </tr>\n",
       "    <tr>\n",
       "      <th>2022-12-03</th>\n",
       "      <td>12476.0</td>\n",
       "      <td>9994.0</td>\n",
       "    </tr>\n",
       "  </tbody>\n",
       "</table>\n",
       "<p>445 rows × 2 columns</p>\n",
       "</div>"
      ],
      "text/plain": [
       "            StepCount  RollingMeanSteps\n",
       "endDate                                \n",
       "2021-09-15     2819.0            5705.8\n",
       "2021-09-16    12172.0            6102.8\n",
       "2021-09-17     2975.0            6354.2\n",
       "2021-09-18     7697.0            6854.1\n",
       "2021-09-19     2748.0            6728.5\n",
       "...               ...               ...\n",
       "2022-11-29    13658.0            9989.4\n",
       "2022-11-30     8805.0            8784.7\n",
       "2022-12-01     6577.0            9227.1\n",
       "2022-12-02     9284.0           10149.2\n",
       "2022-12-03    12476.0            9994.0\n",
       "\n",
       "[445 rows x 2 columns]"
      ]
     },
     "execution_count": 153,
     "metadata": {},
     "output_type": "execute_result"
    }
   ],
   "source": [
    "# Copy To New Dataframe - DeepCopy so Changes DO NOT reflect in Original \n",
    "daily_steps_sum = df[['endDate', 'StepCount']].copy(deep=True)\n",
    "\n",
    "# Calculate Rolling Average \n",
    "daily_steps_sum['RollingMeanSteps'] = daily_steps_sum.StepCount.rolling(window=10,center=True).mean()\n",
    "daily_steps_sum.dropna(inplace=True)\n",
    "\n",
    "daily_steps_sum = daily_steps_sum.set_index('endDate')\n",
    "\n",
    "daily_steps_sum"
   ]
  },
  {
   "cell_type": "markdown",
   "metadata": {},
   "source": [
    "### Plot Rolling Mean of Step Counts "
   ]
  },
  {
   "cell_type": "markdown",
   "metadata": {},
   "source": [
    "### External Data Calculations: Step Count Over Recommended 10k"
   ]
  },
  {
   "cell_type": "code",
   "execution_count": 179,
   "metadata": {},
   "outputs": [
    {
     "data": {
      "image/png": "[encoded data removed]",
      "text/plain": [
       "<Figure size 1080x504 with 1 Axes>"
      ]
     },
     "metadata": {
      "needs_background": "light"
     },
     "output_type": "display_data"
    }
   ],
   "source": [
    "fig, ax = plt.subplots(figsize=(15,7))\n",
    "\n",
    "y_line = 10000\n",
    "\n",
    "ax.plot(daily_steps_sum.RollingMeanSteps, label=\"10-Day Rolling Mean\")\n",
    "ax.axhline(y=y_line, label='Recommended 10,000 Steps', linestyle='--', color='green', alpha=0.4)\n",
    "ax.fill_between(x=daily_steps_sum.index, y1=y_line, y2=daily_steps_sum['RollingMeanSteps'], where=y_line < daily_steps_sum['RollingMeanSteps'], color='lightgreen', alpha=0.5, label='Above Recommended 10,000 Steps/Day')\n",
    "\n",
    "\n",
    "ax.xaxis.set_major_formatter(mdates.DateFormatter('%Y-%b'))\n",
    "Axis.set_major_locator(ax.xaxis, mdates.MonthLocator())\n",
    "ax.tick_params(axis='x', labelrotation=45)\n",
    "\n",
    "ax.set_title(\"Daily Step Count 10-Day Rolling Mean\", fontsize=20)\n",
    "ax.legend(loc=2)\n",
    "\n",
    "plt.show()"
   ]
  },
  {
   "cell_type": "code",
   "execution_count": 176,
   "metadata": {},
   "outputs": [
    {
     "data": {
      "text/plain": [
       "year  month\n",
       "2021  9        28.571429\n",
       "      10       32.258065\n",
       "      11       40.000000\n",
       "      12       32.258065\n",
       "2022  1        19.354839\n",
       "      2        25.000000\n",
       "      3        45.161290\n",
       "      4        56.666667\n",
       "      5        48.387097\n",
       "      6        60.000000\n",
       "      7        45.161290\n",
       "      8        67.741935\n",
       "      9        66.666667\n",
       "      10       67.741935\n",
       "      11       46.666667\n",
       "      12       42.857143\n",
       "Name: over_10_count, dtype: float64"
      ]
     },
     "execution_count": 176,
     "metadata": {},
     "output_type": "execute_result"
    }
   ],
   "source": [
    "recommended = 10000\n",
    "over_10_df = df[['endDate', 'StepCount']].copy(deep=True)\n",
    "\n",
    "# Calculate Days Over Recommended 10,000 Steps \n",
    "over_10_df['over_10_count'] = 0\n",
    "over_10_df.loc[(over_10_df['StepCount'] > recommended), 'over_10_count'] = 1\n",
    "\n",
    "# Sum By Year and Month \n",
    "over_10_df['month'] = over_10_df['endDate'].dt.month \n",
    "over_10_df['year'] = over_10_df['endDate'].dt.year\n",
    "monthly_over_10 = over_10_df.groupby(['year', 'month'])['over_10_count'].sum()\n",
    "month_days = over_10_df.groupby(['year', 'month'])['over_10_count'].count()\n",
    "\n",
    "# Calculate Total Number of Days Over \n",
    "sum_total = over_10_df['over_10_count'].sum()\n",
    "total_count = over_10_df['over_10_count'].count()\n",
    "avg_over = (sum_total/total_count) * 100\n",
    "\n",
    "average_days_over_10 = (monthly_over_10 / month_days) * 100\n",
    "\n",
    "average_days_over_10\n"
   ]
  },
  {
   "cell_type": "code",
   "execution_count": null,
   "metadata": {},
   "outputs": [],
   "source": []
  }
 ],
 "metadata": {
  "kernelspec": {
   "display_name": "Python 3.8.8 ('base')",
   "language": "python",
   "name": "python3"
  },
  "language_info": {
   "codemirror_mode": {
    "name": "ipython",
    "version": 3
   },
   "file_extension": ".py",
   "mimetype": "text/x-python",
   "name": "python",
   "nbconvert_exporter": "python",
   "pygments_lexer": "ipython3",
   "version": "3.8.8"
  },
  "orig_nbformat": 4,
  "vscode": {
   "interpreter": {
    "hash": "08a0dfaf3fa74e1b9a1bb705dbe1b2708914f992320bdd77350db063c3b717dd"
   }
  }
 },
 "nbformat": 4,
 "nbformat_minor": 2
}
