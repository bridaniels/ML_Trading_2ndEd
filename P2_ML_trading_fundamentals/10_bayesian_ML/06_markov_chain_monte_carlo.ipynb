{
 "cells": [
  {
   "cell_type": "markdown",
   "metadata": {},
   "source": [
    "# Markov Chain Monte Carlo (MCMC) Sampling: \n",
    "---\n",
    "[Toward Data Science: Monte Carlo Markov Chain (MCMC), Exlplained](https://towardsdatascience.com/monte-carlo-markov-chain-mcmc-explained-94e3a6c8de11)\n",
    "- about drawing samples from a given distribution: *estimating using randomness*\n",
    "- **Independent Samples:** averages over samples can be used as unbiased estimators of expected values of parameters in the distribtuion \n",
    "    - *Discrete Samples:*\n",
    "        - *law of large numbers:* growing sample base, fraction of an instance corresponds to its probability \n",
    "    - *Continuous Samples:*\n",
    "        - analogous reasoning applies to a given region of the sample space \n",
    "- **Practical Challenge:** ensuring independent sampling because the distribution is *unknown*\n",
    "    - *dependent samples* can still be unbiased (tend to increase estimate's variance)\n",
    "    - more smples will be needed for a more precise estimate \n",
    "\n",
    "\n",
    "#### Sampling from a Multivariate Distribution is Computationally Demanding: number of *states* increases **exponentially** with the number of *dimensions*\n",
    "\n",
    "#### [Stochastic:](https://en.wikipedia.org/wiki/Stochastic)\n",
    "- modeling approach for a random probability distribution \n",
    "- means \"aim\" or \"guess\" in greek\n",
    "- *Stochastic Process* -> *Random Process*"
   ]
  },
  {
   "cell_type": "markdown",
   "metadata": {},
   "source": [
    "## Monte Carlo Methods:\n",
    "---\n",
    "- Rely on repeated random sampling to approximate results (memoryless)\n",
    "- may be determinisitc -> do not permit an exact analytical solution \n",
    "- **Identify** and **Explore** regions of the *posterior* that concentrate significant probability density \n",
    "    - converges when it consistently moves through nearby high-probability states of the posterior where acceptance rates increase \n",
    "    - *Challenge*: balance need for random exploration withthe risk of reducing the acceptance rate \n",
    "- developed during Manhattan Project for the Atomic Bomb\n",
    "\n",
    "> ## Monte Carlo Method applied to a Markov Chain Process: \n",
    "> 1. Start at *Current* Position\n",
    "> 2. Draw a *New* Position from a *Proposal Distribution*\n",
    "> 3. Evaluate the Probability of the Nw Position in Light of *Data* and *Prior Positions*\n",
    ">       - if sufficiently likely -> move to new position \n",
    ">       - otherwise -> remain at current position \n",
    "> 4. *Repeat from *Step 1**\n",
    "> 5. After a Given Number of Iterations, Return all Accepted Positions \n",
    "\n",
    "- *Initial Steps* are typically more reflective of the starting position than the posterior\n",
    "    - typically discarded as: *Burn-In *Samples**\n",
    "    - should forget about initial starting point after a certain number of iterations \n",
    "- *Remaining Samples* are called the **TRACE** of the process\n",
    "    - *law of large numbers*: relative frequency of samples approximates the posterior and can be used to compute expected values "
   ]
  },
  {
   "cell_type": "code",
   "execution_count": null,
   "metadata": {},
   "outputs": [],
   "source": []
  }
 ],
 "metadata": {
  "kernelspec": {
   "display_name": "Python 3.9.10 64-bit",
   "language": "python",
   "name": "python3"
  },
  "language_info": {
   "codemirror_mode": {
    "name": "ipython",
    "version": 3
   },
   "file_extension": ".py",
   "mimetype": "text/x-python",
   "name": "python",
   "nbconvert_exporter": "python",
   "pygments_lexer": "ipython3",
   "version": "3.9.10"
  },
  "orig_nbformat": 4,
  "vscode": {
   "interpreter": {
    "hash": "aee8b7b246df8f9039afb4144a1f6fd8d2ca17a180786b69acc140d282b71a49"
   }
  }
 },
 "nbformat": 4,
 "nbformat_minor": 2
}
