{
 "cells": [
  {
   "cell_type": "markdown",
   "metadata": {},
   "source": [
    "# Download and Parse a Sample File of ITCH Messages\n",
    "--- \n",
    "[GITHUB](https://github.com/PacktPublishing/Machine-Learning-for-Algorithmic-Trading-Second-Edition/blob/master/02_market_and_fundamental_data/01_NASDAQ_TotalView-ITCH_Order_Book/01_parse_itch_order_flow_messages.ipynb)"
   ]
  },
  {
   "cell_type": "code",
   "execution_count": 1,
   "metadata": {},
   "outputs": [],
   "source": [
    "import warnings\n",
    "warnings.filterwarnings('ignore')"
   ]
  },
  {
   "cell_type": "code",
   "execution_count": 3,
   "metadata": {},
   "outputs": [],
   "source": [
    "%matplotlib inline\n",
    "import gzip\n",
    "import shutil \n",
    "\n",
    "import pandas as pd \n",
    "import matplotlib.pyplot as plt\n",
    "import seaborn as sns \n",
    "\n",
    "from matplotlib.ticker import FuncFormatter \n",
    "from struct import unpack\n",
    "from collections import namedtuple, Counter, defaultdict\n",
    "from pathlib import Path\n",
    "from urllib.request import urlretrieve\n",
    "from urllib.parse import urljoin\n",
    "from datetime import timedelta\n",
    "from time import time\n"
   ]
  },
  {
   "cell_type": "code",
   "execution_count": 4,
   "metadata": {},
   "outputs": [],
   "source": [
    "sns.set_style('whitegrid')"
   ]
  },
  {
   "cell_type": "code",
   "execution_count": 5,
   "metadata": {},
   "outputs": [],
   "source": [
    "def format_time(t):\n",
    "    \"\"\"Return a formatted time string 'HH:MM:SS\n",
    "    based on a numeric time() value\"\"\"\n",
    "    m, s = divmod(t, 60)\n",
    "    h, m = divmod(m, 60)\n",
    "    return f'{h:0>2.0f}:{m:0>2.0f}:{s:0>5.2f}'"
   ]
  },
  {
   "cell_type": "markdown",
   "metadata": {},
   "source": [
    "# Get NASDAQ ITCH Data from FTP Server \n",
    "--- \n",
    "- Nasdaq offers samples of daily binary files for several months \n",
    "- parse a sample file of ITCH messages \n",
    "- reconstruct executed trades and the order book for any given tick \n",
    "- Large Dataset (time and memory space 16GB+)"
   ]
  },
  {
   "cell_type": "markdown",
   "metadata": {},
   "source": [
    "### Set Data Paths\n",
    "- store data in `data` subdirectory and convert result to `hdf` format \n",
    "- Sample Files: [NASDAQ ftp server](ftp://emi.nasdaq.com/ITCH/)"
   ]
  },
  {
   "cell_type": "code",
   "execution_count": 6,
   "metadata": {},
   "outputs": [],
   "source": [
    "data_path = Path('data') # SET TO EXTERNAL HARDDRIVE -> LARGE DATASET\n",
    "itch_store = str(data_path / 'itch.h5')\n",
    "order_book_store = data_path / 'order_book.h5'"
   ]
  },
  {
   "cell_type": "code",
   "execution_count": 7,
   "metadata": {},
   "outputs": [],
   "source": [
    "# Sample FTP Address, filename and corresponding date used in example\n",
    "FTP_URL = 'ftp://emi.nasdaq.com/ITCH/Nasdaq ITCH/'\n",
    "SOURCE_FILE = '10302019.NASDAQ_ITCH50.gz'"
   ]
  },
  {
   "cell_type": "markdown",
   "metadata": {},
   "source": [
    "### Download and Unzip "
   ]
  },
  {
   "cell_type": "code",
   "execution_count": 8,
   "metadata": {},
   "outputs": [],
   "source": [
    "def may_be_downloaded(url): \n",
    "    ''' \n",
    "    Download and Unzip ITCH Data if Not Yet Avaliable\n",
    "    '''\n",
    "    if not data_path.exists(): \n",
    "        print('Creating Directory')\n",
    "        data_path.mkdir()\n",
    "    else: \n",
    "        print('Directory Exists')\n",
    "    \n",
    "    filename = data_path / url.split('/')[-1]\n",
    "    if not filename.exists(): \n",
    "        print('Downloading...', url)\n",
    "        urlretrieve(url,filename)\n",
    "    else: \n",
    "        print('File Exists')\n",
    "    \n",
    "    unzipped = data_path / (filename.stem + '.bin')\n",
    "    if not unzipped.exists(): \n",
    "        print('Unzipping to', unzipped)\n",
    "        with gzip.open(str(filename), 'rb') as f_in: \n",
    "            with open(unzipped, 'wb') as f_out: \n",
    "                shutil.copyfileobj(f_in, f_out)\n",
    "    else: \n",
    "        print('File Already Unpacked')\n",
    "    \n",
    "    return unzipped"
   ]
  },
  {
   "cell_type": "code",
   "execution_count": 10,
   "metadata": {},
   "outputs": [
    {
     "name": "stdout",
     "output_type": "stream",
     "text": [
      "Directory Exists\n",
      "Downloading... ftp://emi.nasdaq.com/ITCH/Nasdaq ITCH/10302019.NASDAQ_ITCH50.gz\n"
     ]
    },
    {
     "ename": "URLError",
     "evalue": "<urlopen error ftp error: TimeoutError(60, 'Operation timed out')>",
     "output_type": "error",
     "traceback": [
      "\u001b[0;31m---------------------------------------------------------------------------\u001b[0m",
      "\u001b[0;31mTimeoutError\u001b[0m                              Traceback (most recent call last)",
      "File \u001b[0;32m~/opt/anaconda3/lib/python3.8/urllib/request.py:1571\u001b[0m, in \u001b[0;36mFTPHandler.ftp_open\u001b[0;34m(self, req)\u001b[0m\n\u001b[1;32m   1570\u001b[0m \u001b[39mtry\u001b[39;00m:\n\u001b[0;32m-> 1571\u001b[0m     fw \u001b[39m=\u001b[39m \u001b[39mself\u001b[39;49m\u001b[39m.\u001b[39;49mconnect_ftp(user, passwd, host, port, dirs, req\u001b[39m.\u001b[39;49mtimeout)\n\u001b[1;32m   1572\u001b[0m     \u001b[39mtype\u001b[39m \u001b[39m=\u001b[39m file \u001b[39mand\u001b[39;00m \u001b[39m'\u001b[39m\u001b[39mI\u001b[39m\u001b[39m'\u001b[39m \u001b[39mor\u001b[39;00m \u001b[39m'\u001b[39m\u001b[39mD\u001b[39m\u001b[39m'\u001b[39m\n",
      "File \u001b[0;32m~/opt/anaconda3/lib/python3.8/urllib/request.py:1592\u001b[0m, in \u001b[0;36mFTPHandler.connect_ftp\u001b[0;34m(self, user, passwd, host, port, dirs, timeout)\u001b[0m\n\u001b[1;32m   1591\u001b[0m \u001b[39mdef\u001b[39;00m \u001b[39mconnect_ftp\u001b[39m(\u001b[39mself\u001b[39m, user, passwd, host, port, dirs, timeout):\n\u001b[0;32m-> 1592\u001b[0m     \u001b[39mreturn\u001b[39;00m ftpwrapper(user, passwd, host, port, dirs, timeout,\n\u001b[1;32m   1593\u001b[0m                       persistent\u001b[39m=\u001b[39;49m\u001b[39mFalse\u001b[39;49;00m)\n",
      "File \u001b[0;32m~/opt/anaconda3/lib/python3.8/urllib/request.py:2413\u001b[0m, in \u001b[0;36mftpwrapper.__init__\u001b[0;34m(self, user, passwd, host, port, dirs, timeout, persistent)\u001b[0m\n\u001b[1;32m   2412\u001b[0m \u001b[39mtry\u001b[39;00m:\n\u001b[0;32m-> 2413\u001b[0m     \u001b[39mself\u001b[39;49m\u001b[39m.\u001b[39;49minit()\n\u001b[1;32m   2414\u001b[0m \u001b[39mexcept\u001b[39;00m:\n",
      "File \u001b[0;32m~/opt/anaconda3/lib/python3.8/urllib/request.py:2422\u001b[0m, in \u001b[0;36mftpwrapper.init\u001b[0;34m(self)\u001b[0m\n\u001b[1;32m   2421\u001b[0m \u001b[39mself\u001b[39m\u001b[39m.\u001b[39mftp \u001b[39m=\u001b[39m ftplib\u001b[39m.\u001b[39mFTP()\n\u001b[0;32m-> 2422\u001b[0m \u001b[39mself\u001b[39;49m\u001b[39m.\u001b[39;49mftp\u001b[39m.\u001b[39;49mconnect(\u001b[39mself\u001b[39;49m\u001b[39m.\u001b[39;49mhost, \u001b[39mself\u001b[39;49m\u001b[39m.\u001b[39;49mport, \u001b[39mself\u001b[39;49m\u001b[39m.\u001b[39;49mtimeout)\n\u001b[1;32m   2423\u001b[0m \u001b[39mself\u001b[39m\u001b[39m.\u001b[39mftp\u001b[39m.\u001b[39mlogin(\u001b[39mself\u001b[39m\u001b[39m.\u001b[39muser, \u001b[39mself\u001b[39m\u001b[39m.\u001b[39mpasswd)\n",
      "File \u001b[0;32m~/opt/anaconda3/lib/python3.8/ftplib.py:152\u001b[0m, in \u001b[0;36mFTP.connect\u001b[0;34m(self, host, port, timeout, source_address)\u001b[0m\n\u001b[1;32m    151\u001b[0m sys\u001b[39m.\u001b[39maudit(\u001b[39m\"\u001b[39m\u001b[39mftplib.connect\u001b[39m\u001b[39m\"\u001b[39m, \u001b[39mself\u001b[39m, \u001b[39mself\u001b[39m\u001b[39m.\u001b[39mhost, \u001b[39mself\u001b[39m\u001b[39m.\u001b[39mport)\n\u001b[0;32m--> 152\u001b[0m \u001b[39mself\u001b[39m\u001b[39m.\u001b[39msock \u001b[39m=\u001b[39m socket\u001b[39m.\u001b[39;49mcreate_connection((\u001b[39mself\u001b[39;49m\u001b[39m.\u001b[39;49mhost, \u001b[39mself\u001b[39;49m\u001b[39m.\u001b[39;49mport), \u001b[39mself\u001b[39;49m\u001b[39m.\u001b[39;49mtimeout,\n\u001b[1;32m    153\u001b[0m                                      source_address\u001b[39m=\u001b[39;49m\u001b[39mself\u001b[39;49m\u001b[39m.\u001b[39;49msource_address)\n\u001b[1;32m    154\u001b[0m \u001b[39mself\u001b[39m\u001b[39m.\u001b[39maf \u001b[39m=\u001b[39m \u001b[39mself\u001b[39m\u001b[39m.\u001b[39msock\u001b[39m.\u001b[39mfamily\n",
      "File \u001b[0;32m~/opt/anaconda3/lib/python3.8/socket.py:808\u001b[0m, in \u001b[0;36mcreate_connection\u001b[0;34m(address, timeout, source_address)\u001b[0m\n\u001b[1;32m    807\u001b[0m \u001b[39mtry\u001b[39;00m:\n\u001b[0;32m--> 808\u001b[0m     \u001b[39mraise\u001b[39;00m err\n\u001b[1;32m    809\u001b[0m \u001b[39mfinally\u001b[39;00m:\n\u001b[1;32m    810\u001b[0m     \u001b[39m# Break explicitly a reference cycle\u001b[39;00m\n",
      "File \u001b[0;32m~/opt/anaconda3/lib/python3.8/socket.py:796\u001b[0m, in \u001b[0;36mcreate_connection\u001b[0;34m(address, timeout, source_address)\u001b[0m\n\u001b[1;32m    795\u001b[0m     sock\u001b[39m.\u001b[39mbind(source_address)\n\u001b[0;32m--> 796\u001b[0m sock\u001b[39m.\u001b[39;49mconnect(sa)\n\u001b[1;32m    797\u001b[0m \u001b[39m# Break explicitly a reference cycle\u001b[39;00m\n",
      "\u001b[0;31mTimeoutError\u001b[0m: [Errno 60] Operation timed out",
      "\nDuring handling of the above exception, another exception occurred:\n",
      "\u001b[0;31mURLError\u001b[0m                                  Traceback (most recent call last)",
      "\u001b[1;32m/Users/CODEUSR/Documents/PROJECTS/finance/ML_Trading_2ndEd/02_Data_Sources_Techniques/ITCH_parse_order_flow_messages.ipynb Cell 12\u001b[0m in \u001b[0;36m<cell line: 1>\u001b[0;34m()\u001b[0m\n\u001b[0;32m----> <a href='vscode-notebook-cell:/Users/CODEUSR/Documents/PROJECTS/finance/ML_Trading_2ndEd/02_Data_Sources_Techniques/ITCH_parse_order_flow_messages.ipynb#X14sZmlsZQ%3D%3D?line=0'>1</a>\u001b[0m file_name \u001b[39m=\u001b[39m may_be_downloaded(urljoin(FTP_URL, SOURCE_FILE))\n\u001b[1;32m      <a href='vscode-notebook-cell:/Users/CODEUSR/Documents/PROJECTS/finance/ML_Trading_2ndEd/02_Data_Sources_Techniques/ITCH_parse_order_flow_messages.ipynb#X14sZmlsZQ%3D%3D?line=1'>2</a>\u001b[0m date \u001b[39m=\u001b[39m file_name\u001b[39m.\u001b[39mname\u001b[39m.\u001b[39msplit(\u001b[39m'\u001b[39m\u001b[39m.\u001b[39m\u001b[39m'\u001b[39m)[\u001b[39m0\u001b[39m]\n",
      "\u001b[1;32m/Users/CODEUSR/Documents/PROJECTS/finance/ML_Trading_2ndEd/02_Data_Sources_Techniques/ITCH_parse_order_flow_messages.ipynb Cell 12\u001b[0m in \u001b[0;36mmay_be_downloaded\u001b[0;34m(url)\u001b[0m\n\u001b[1;32m     <a href='vscode-notebook-cell:/Users/CODEUSR/Documents/PROJECTS/finance/ML_Trading_2ndEd/02_Data_Sources_Techniques/ITCH_parse_order_flow_messages.ipynb#X14sZmlsZQ%3D%3D?line=11'>12</a>\u001b[0m \u001b[39mif\u001b[39;00m \u001b[39mnot\u001b[39;00m filename\u001b[39m.\u001b[39mexists(): \n\u001b[1;32m     <a href='vscode-notebook-cell:/Users/CODEUSR/Documents/PROJECTS/finance/ML_Trading_2ndEd/02_Data_Sources_Techniques/ITCH_parse_order_flow_messages.ipynb#X14sZmlsZQ%3D%3D?line=12'>13</a>\u001b[0m     \u001b[39mprint\u001b[39m(\u001b[39m'\u001b[39m\u001b[39mDownloading...\u001b[39m\u001b[39m'\u001b[39m, url)\n\u001b[0;32m---> <a href='vscode-notebook-cell:/Users/CODEUSR/Documents/PROJECTS/finance/ML_Trading_2ndEd/02_Data_Sources_Techniques/ITCH_parse_order_flow_messages.ipynb#X14sZmlsZQ%3D%3D?line=13'>14</a>\u001b[0m     urlretrieve(url,filename)\n\u001b[1;32m     <a href='vscode-notebook-cell:/Users/CODEUSR/Documents/PROJECTS/finance/ML_Trading_2ndEd/02_Data_Sources_Techniques/ITCH_parse_order_flow_messages.ipynb#X14sZmlsZQ%3D%3D?line=14'>15</a>\u001b[0m \u001b[39melse\u001b[39;00m: \n\u001b[1;32m     <a href='vscode-notebook-cell:/Users/CODEUSR/Documents/PROJECTS/finance/ML_Trading_2ndEd/02_Data_Sources_Techniques/ITCH_parse_order_flow_messages.ipynb#X14sZmlsZQ%3D%3D?line=15'>16</a>\u001b[0m     \u001b[39mprint\u001b[39m(\u001b[39m'\u001b[39m\u001b[39mFile Exists\u001b[39m\u001b[39m'\u001b[39m)\n",
      "File \u001b[0;32m~/opt/anaconda3/lib/python3.8/urllib/request.py:247\u001b[0m, in \u001b[0;36murlretrieve\u001b[0;34m(url, filename, reporthook, data)\u001b[0m\n\u001b[1;32m    230\u001b[0m \u001b[39m\"\"\"\u001b[39;00m\n\u001b[1;32m    231\u001b[0m \u001b[39mRetrieve a URL into a temporary location on disk.\u001b[39;00m\n\u001b[1;32m    232\u001b[0m \n\u001b[0;32m   (...)\u001b[0m\n\u001b[1;32m    243\u001b[0m \u001b[39mdata file as well as the resulting HTTPMessage object.\u001b[39;00m\n\u001b[1;32m    244\u001b[0m \u001b[39m\"\"\"\u001b[39;00m\n\u001b[1;32m    245\u001b[0m url_type, path \u001b[39m=\u001b[39m _splittype(url)\n\u001b[0;32m--> 247\u001b[0m \u001b[39mwith\u001b[39;00m contextlib\u001b[39m.\u001b[39mclosing(urlopen(url, data)) \u001b[39mas\u001b[39;00m fp:\n\u001b[1;32m    248\u001b[0m     headers \u001b[39m=\u001b[39m fp\u001b[39m.\u001b[39minfo()\n\u001b[1;32m    250\u001b[0m     \u001b[39m# Just return the local path and the \"headers\" for file://\u001b[39;00m\n\u001b[1;32m    251\u001b[0m     \u001b[39m# URLs. No sense in performing a copy unless requested.\u001b[39;00m\n",
      "File \u001b[0;32m~/opt/anaconda3/lib/python3.8/urllib/request.py:222\u001b[0m, in \u001b[0;36murlopen\u001b[0;34m(url, data, timeout, cafile, capath, cadefault, context)\u001b[0m\n\u001b[1;32m    220\u001b[0m \u001b[39melse\u001b[39;00m:\n\u001b[1;32m    221\u001b[0m     opener \u001b[39m=\u001b[39m _opener\n\u001b[0;32m--> 222\u001b[0m \u001b[39mreturn\u001b[39;00m opener\u001b[39m.\u001b[39;49mopen(url, data, timeout)\n",
      "File \u001b[0;32m~/opt/anaconda3/lib/python3.8/urllib/request.py:525\u001b[0m, in \u001b[0;36mOpenerDirector.open\u001b[0;34m(self, fullurl, data, timeout)\u001b[0m\n\u001b[1;32m    522\u001b[0m     req \u001b[39m=\u001b[39m meth(req)\n\u001b[1;32m    524\u001b[0m sys\u001b[39m.\u001b[39maudit(\u001b[39m'\u001b[39m\u001b[39murllib.Request\u001b[39m\u001b[39m'\u001b[39m, req\u001b[39m.\u001b[39mfull_url, req\u001b[39m.\u001b[39mdata, req\u001b[39m.\u001b[39mheaders, req\u001b[39m.\u001b[39mget_method())\n\u001b[0;32m--> 525\u001b[0m response \u001b[39m=\u001b[39m \u001b[39mself\u001b[39;49m\u001b[39m.\u001b[39;49m_open(req, data)\n\u001b[1;32m    527\u001b[0m \u001b[39m# post-process response\u001b[39;00m\n\u001b[1;32m    528\u001b[0m meth_name \u001b[39m=\u001b[39m protocol\u001b[39m+\u001b[39m\u001b[39m\"\u001b[39m\u001b[39m_response\u001b[39m\u001b[39m\"\u001b[39m\n",
      "File \u001b[0;32m~/opt/anaconda3/lib/python3.8/urllib/request.py:542\u001b[0m, in \u001b[0;36mOpenerDirector._open\u001b[0;34m(self, req, data)\u001b[0m\n\u001b[1;32m    539\u001b[0m     \u001b[39mreturn\u001b[39;00m result\n\u001b[1;32m    541\u001b[0m protocol \u001b[39m=\u001b[39m req\u001b[39m.\u001b[39mtype\n\u001b[0;32m--> 542\u001b[0m result \u001b[39m=\u001b[39m \u001b[39mself\u001b[39;49m\u001b[39m.\u001b[39;49m_call_chain(\u001b[39mself\u001b[39;49m\u001b[39m.\u001b[39;49mhandle_open, protocol, protocol \u001b[39m+\u001b[39;49m\n\u001b[1;32m    543\u001b[0m                           \u001b[39m'\u001b[39;49m\u001b[39m_open\u001b[39;49m\u001b[39m'\u001b[39;49m, req)\n\u001b[1;32m    544\u001b[0m \u001b[39mif\u001b[39;00m result:\n\u001b[1;32m    545\u001b[0m     \u001b[39mreturn\u001b[39;00m result\n",
      "File \u001b[0;32m~/opt/anaconda3/lib/python3.8/urllib/request.py:502\u001b[0m, in \u001b[0;36mOpenerDirector._call_chain\u001b[0;34m(self, chain, kind, meth_name, *args)\u001b[0m\n\u001b[1;32m    500\u001b[0m \u001b[39mfor\u001b[39;00m handler \u001b[39min\u001b[39;00m handlers:\n\u001b[1;32m    501\u001b[0m     func \u001b[39m=\u001b[39m \u001b[39mgetattr\u001b[39m(handler, meth_name)\n\u001b[0;32m--> 502\u001b[0m     result \u001b[39m=\u001b[39m func(\u001b[39m*\u001b[39;49margs)\n\u001b[1;32m    503\u001b[0m     \u001b[39mif\u001b[39;00m result \u001b[39mis\u001b[39;00m \u001b[39mnot\u001b[39;00m \u001b[39mNone\u001b[39;00m:\n\u001b[1;32m    504\u001b[0m         \u001b[39mreturn\u001b[39;00m result\n",
      "File \u001b[0;32m~/opt/anaconda3/lib/python3.8/urllib/request.py:1589\u001b[0m, in \u001b[0;36mFTPHandler.ftp_open\u001b[0;34m(self, req)\u001b[0m\n\u001b[1;32m   1587\u001b[0m \u001b[39mexcept\u001b[39;00m ftplib\u001b[39m.\u001b[39mall_errors \u001b[39mas\u001b[39;00m exp:\n\u001b[1;32m   1588\u001b[0m     exc \u001b[39m=\u001b[39m URLError(\u001b[39m'\u001b[39m\u001b[39mftp error: \u001b[39m\u001b[39m%r\u001b[39;00m\u001b[39m'\u001b[39m \u001b[39m%\u001b[39m exp)\n\u001b[0;32m-> 1589\u001b[0m     \u001b[39mraise\u001b[39;00m exc\u001b[39m.\u001b[39mwith_traceback(sys\u001b[39m.\u001b[39mexc_info()[\u001b[39m2\u001b[39m])\n",
      "File \u001b[0;32m~/opt/anaconda3/lib/python3.8/urllib/request.py:1571\u001b[0m, in \u001b[0;36mFTPHandler.ftp_open\u001b[0;34m(self, req)\u001b[0m\n\u001b[1;32m   1569\u001b[0m     dirs \u001b[39m=\u001b[39m dirs[\u001b[39m1\u001b[39m:]\n\u001b[1;32m   1570\u001b[0m \u001b[39mtry\u001b[39;00m:\n\u001b[0;32m-> 1571\u001b[0m     fw \u001b[39m=\u001b[39m \u001b[39mself\u001b[39;49m\u001b[39m.\u001b[39;49mconnect_ftp(user, passwd, host, port, dirs, req\u001b[39m.\u001b[39;49mtimeout)\n\u001b[1;32m   1572\u001b[0m     \u001b[39mtype\u001b[39m \u001b[39m=\u001b[39m file \u001b[39mand\u001b[39;00m \u001b[39m'\u001b[39m\u001b[39mI\u001b[39m\u001b[39m'\u001b[39m \u001b[39mor\u001b[39;00m \u001b[39m'\u001b[39m\u001b[39mD\u001b[39m\u001b[39m'\u001b[39m\n\u001b[1;32m   1573\u001b[0m     \u001b[39mfor\u001b[39;00m attr \u001b[39min\u001b[39;00m attrs:\n",
      "File \u001b[0;32m~/opt/anaconda3/lib/python3.8/urllib/request.py:1592\u001b[0m, in \u001b[0;36mFTPHandler.connect_ftp\u001b[0;34m(self, user, passwd, host, port, dirs, timeout)\u001b[0m\n\u001b[1;32m   1591\u001b[0m \u001b[39mdef\u001b[39;00m \u001b[39mconnect_ftp\u001b[39m(\u001b[39mself\u001b[39m, user, passwd, host, port, dirs, timeout):\n\u001b[0;32m-> 1592\u001b[0m     \u001b[39mreturn\u001b[39;00m ftpwrapper(user, passwd, host, port, dirs, timeout,\n\u001b[1;32m   1593\u001b[0m                       persistent\u001b[39m=\u001b[39;49m\u001b[39mFalse\u001b[39;49;00m)\n",
      "File \u001b[0;32m~/opt/anaconda3/lib/python3.8/urllib/request.py:2413\u001b[0m, in \u001b[0;36mftpwrapper.__init__\u001b[0;34m(self, user, passwd, host, port, dirs, timeout, persistent)\u001b[0m\n\u001b[1;32m   2411\u001b[0m \u001b[39mself\u001b[39m\u001b[39m.\u001b[39mkeepalive \u001b[39m=\u001b[39m persistent\n\u001b[1;32m   2412\u001b[0m \u001b[39mtry\u001b[39;00m:\n\u001b[0;32m-> 2413\u001b[0m     \u001b[39mself\u001b[39;49m\u001b[39m.\u001b[39;49minit()\n\u001b[1;32m   2414\u001b[0m \u001b[39mexcept\u001b[39;00m:\n\u001b[1;32m   2415\u001b[0m     \u001b[39mself\u001b[39m\u001b[39m.\u001b[39mclose()\n",
      "File \u001b[0;32m~/opt/anaconda3/lib/python3.8/urllib/request.py:2422\u001b[0m, in \u001b[0;36mftpwrapper.init\u001b[0;34m(self)\u001b[0m\n\u001b[1;32m   2420\u001b[0m \u001b[39mself\u001b[39m\u001b[39m.\u001b[39mbusy \u001b[39m=\u001b[39m \u001b[39m0\u001b[39m\n\u001b[1;32m   2421\u001b[0m \u001b[39mself\u001b[39m\u001b[39m.\u001b[39mftp \u001b[39m=\u001b[39m ftplib\u001b[39m.\u001b[39mFTP()\n\u001b[0;32m-> 2422\u001b[0m \u001b[39mself\u001b[39;49m\u001b[39m.\u001b[39;49mftp\u001b[39m.\u001b[39;49mconnect(\u001b[39mself\u001b[39;49m\u001b[39m.\u001b[39;49mhost, \u001b[39mself\u001b[39;49m\u001b[39m.\u001b[39;49mport, \u001b[39mself\u001b[39;49m\u001b[39m.\u001b[39;49mtimeout)\n\u001b[1;32m   2423\u001b[0m \u001b[39mself\u001b[39m\u001b[39m.\u001b[39mftp\u001b[39m.\u001b[39mlogin(\u001b[39mself\u001b[39m\u001b[39m.\u001b[39muser, \u001b[39mself\u001b[39m\u001b[39m.\u001b[39mpasswd)\n\u001b[1;32m   2424\u001b[0m _target \u001b[39m=\u001b[39m \u001b[39m'\u001b[39m\u001b[39m/\u001b[39m\u001b[39m'\u001b[39m\u001b[39m.\u001b[39mjoin(\u001b[39mself\u001b[39m\u001b[39m.\u001b[39mdirs)\n",
      "File \u001b[0;32m~/opt/anaconda3/lib/python3.8/ftplib.py:152\u001b[0m, in \u001b[0;36mFTP.connect\u001b[0;34m(self, host, port, timeout, source_address)\u001b[0m\n\u001b[1;32m    150\u001b[0m     \u001b[39mself\u001b[39m\u001b[39m.\u001b[39msource_address \u001b[39m=\u001b[39m source_address\n\u001b[1;32m    151\u001b[0m sys\u001b[39m.\u001b[39maudit(\u001b[39m\"\u001b[39m\u001b[39mftplib.connect\u001b[39m\u001b[39m\"\u001b[39m, \u001b[39mself\u001b[39m, \u001b[39mself\u001b[39m\u001b[39m.\u001b[39mhost, \u001b[39mself\u001b[39m\u001b[39m.\u001b[39mport)\n\u001b[0;32m--> 152\u001b[0m \u001b[39mself\u001b[39m\u001b[39m.\u001b[39msock \u001b[39m=\u001b[39m socket\u001b[39m.\u001b[39;49mcreate_connection((\u001b[39mself\u001b[39;49m\u001b[39m.\u001b[39;49mhost, \u001b[39mself\u001b[39;49m\u001b[39m.\u001b[39;49mport), \u001b[39mself\u001b[39;49m\u001b[39m.\u001b[39;49mtimeout,\n\u001b[1;32m    153\u001b[0m                                      source_address\u001b[39m=\u001b[39;49m\u001b[39mself\u001b[39;49m\u001b[39m.\u001b[39;49msource_address)\n\u001b[1;32m    154\u001b[0m \u001b[39mself\u001b[39m\u001b[39m.\u001b[39maf \u001b[39m=\u001b[39m \u001b[39mself\u001b[39m\u001b[39m.\u001b[39msock\u001b[39m.\u001b[39mfamily\n\u001b[1;32m    155\u001b[0m \u001b[39mself\u001b[39m\u001b[39m.\u001b[39mfile \u001b[39m=\u001b[39m \u001b[39mself\u001b[39m\u001b[39m.\u001b[39msock\u001b[39m.\u001b[39mmakefile(\u001b[39m'\u001b[39m\u001b[39mr\u001b[39m\u001b[39m'\u001b[39m, encoding\u001b[39m=\u001b[39m\u001b[39mself\u001b[39m\u001b[39m.\u001b[39mencoding)\n",
      "File \u001b[0;32m~/opt/anaconda3/lib/python3.8/socket.py:808\u001b[0m, in \u001b[0;36mcreate_connection\u001b[0;34m(address, timeout, source_address)\u001b[0m\n\u001b[1;32m    806\u001b[0m \u001b[39mif\u001b[39;00m err \u001b[39mis\u001b[39;00m \u001b[39mnot\u001b[39;00m \u001b[39mNone\u001b[39;00m:\n\u001b[1;32m    807\u001b[0m     \u001b[39mtry\u001b[39;00m:\n\u001b[0;32m--> 808\u001b[0m         \u001b[39mraise\u001b[39;00m err\n\u001b[1;32m    809\u001b[0m     \u001b[39mfinally\u001b[39;00m:\n\u001b[1;32m    810\u001b[0m         \u001b[39m# Break explicitly a reference cycle\u001b[39;00m\n\u001b[1;32m    811\u001b[0m         err \u001b[39m=\u001b[39m \u001b[39mNone\u001b[39;00m\n",
      "File \u001b[0;32m~/opt/anaconda3/lib/python3.8/socket.py:796\u001b[0m, in \u001b[0;36mcreate_connection\u001b[0;34m(address, timeout, source_address)\u001b[0m\n\u001b[1;32m    794\u001b[0m \u001b[39mif\u001b[39;00m source_address:\n\u001b[1;32m    795\u001b[0m     sock\u001b[39m.\u001b[39mbind(source_address)\n\u001b[0;32m--> 796\u001b[0m sock\u001b[39m.\u001b[39;49mconnect(sa)\n\u001b[1;32m    797\u001b[0m \u001b[39m# Break explicitly a reference cycle\u001b[39;00m\n\u001b[1;32m    798\u001b[0m err \u001b[39m=\u001b[39m \u001b[39mNone\u001b[39;00m\n",
      "\u001b[0;31mURLError\u001b[0m: <urlopen error ftp error: TimeoutError(60, 'Operation timed out')>"
     ]
    }
   ],
   "source": [
    "file_name = may_be_downloaded(urljoin(FTP_URL, SOURCE_FILE))\n",
    "date = file_name.name.split('.')[0]"
   ]
  },
  {
   "cell_type": "code",
   "execution_count": null,
   "metadata": {},
   "outputs": [],
   "source": []
  }
 ],
 "metadata": {
  "kernelspec": {
   "display_name": "Python 3.8.8 ('base')",
   "language": "python",
   "name": "python3"
  },
  "language_info": {
   "codemirror_mode": {
    "name": "ipython",
    "version": 3
   },
   "file_extension": ".py",
   "mimetype": "text/x-python",
   "name": "python",
   "nbconvert_exporter": "python",
   "pygments_lexer": "ipython3",
   "version": "3.8.8"
  },
  "orig_nbformat": 4,
  "vscode": {
   "interpreter": {
    "hash": "08a0dfaf3fa74e1b9a1bb705dbe1b2708914f992320bdd77350db063c3b717dd"
   }
  }
 },
 "nbformat": 4,
 "nbformat_minor": 2
}
